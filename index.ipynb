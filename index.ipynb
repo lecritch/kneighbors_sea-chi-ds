{
 "cells": [
  {
   "cell_type": "markdown",
   "metadata": {},
   "source": [
    "# K-Nearest Neighbors\n",
    "\n",
    "![wilson](img/wilson.jpg)"
   ]
  },
  {
   "cell_type": "markdown",
   "metadata": {},
   "source": [
    "# Agenda\n",
    "1. FSM and metric review\n",
    "2. KNN Under the Hood: Voting for K\n",
    "3. Different types of distance\n",
    "4. Importance of Scaling\n",
    "5. Let's unpack: KNN is a supervised, non-parametric, descriminative, lazy-learning algorithm\n",
    "6. Tuning K and the BV Tradeoff"
   ]
  },
  {
   "cell_type": "markdown",
   "metadata": {},
   "source": [
    "KNearest Neighbors is our second classification algorithm in our toolbelt added to our logistic regression classifier.\n",
    "\n",
    "If we remember, logistic regression is a supervised, parametric, discriminative model.\n",
    "\n",
    "KNN is a supervised, non-parametric, discriminative, lazy-learning algorithm.\n"
   ]
  },
  {
   "cell_type": "code",
   "execution_count": 1,
   "metadata": {},
   "outputs": [],
   "source": [
    "mccalister = ['Adam', 'Amanda','Chum', 'Dann',\n",
    " 'Jacob', 'Jason', 'Johnhoy', 'Karim',\n",
    "'Leana','Luluva', 'Matt', 'Maximilian', ]"
   ]
  },
  {
   "cell_type": "code",
   "execution_count": 2,
   "metadata": {},
   "outputs": [],
   "source": [
    "# This is always a good idea\n",
    "%load_ext autoreload\n",
    "%autoreload 2\n",
    "\n",
    "import os\n",
    "import sys\n",
    "module_path = os.path.abspath(os.path.join(os.pardir, os.pardir))\n",
    "if module_path not in sys.path:\n",
    "    sys.path.append(module_path)"
   ]
  },
  {
   "cell_type": "code",
   "execution_count": 3,
   "metadata": {},
   "outputs": [],
   "source": [
    "import pandas as pd\n",
    "import numpy as np\n",
    "import matplotlib.pyplot as plt\n",
    "from src.student_caller import one_random_student\n",
    "\n",
    "import warnings\n",
    "warnings.filterwarnings('ignore')"
   ]
  },
  {
   "cell_type": "markdown",
   "metadata": {},
   "source": [
    "## Let's load in our trusty Titanic dataset\n",
    "\n",
    "![titanic](https://media.giphy.com/media/uhB0n3Eac8ybe/giphy.gif)"
   ]
  },
  {
   "cell_type": "code",
   "execution_count": 4,
   "metadata": {},
   "outputs": [
    {
     "data": {
      "text/html": [
       "<div>\n",
       "<style scoped>\n",
       "    .dataframe tbody tr th:only-of-type {\n",
       "        vertical-align: middle;\n",
       "    }\n",
       "\n",
       "    .dataframe tbody tr th {\n",
       "        vertical-align: top;\n",
       "    }\n",
       "\n",
       "    .dataframe thead th {\n",
       "        text-align: right;\n",
       "    }\n",
       "</style>\n",
       "<table border=\"1\" class=\"dataframe\">\n",
       "  <thead>\n",
       "    <tr style=\"text-align: right;\">\n",
       "      <th></th>\n",
       "      <th>PassengerId</th>\n",
       "      <th>Survived</th>\n",
       "      <th>Pclass</th>\n",
       "      <th>Age</th>\n",
       "      <th>SibSp</th>\n",
       "      <th>Parch</th>\n",
       "      <th>Fare</th>\n",
       "      <th>youngin</th>\n",
       "      <th>male</th>\n",
       "    </tr>\n",
       "  </thead>\n",
       "  <tbody>\n",
       "    <tr>\n",
       "      <td>0</td>\n",
       "      <td>1</td>\n",
       "      <td>0</td>\n",
       "      <td>3</td>\n",
       "      <td>22.0</td>\n",
       "      <td>1</td>\n",
       "      <td>0</td>\n",
       "      <td>7.2500</td>\n",
       "      <td>False</td>\n",
       "      <td>1</td>\n",
       "    </tr>\n",
       "    <tr>\n",
       "      <td>1</td>\n",
       "      <td>2</td>\n",
       "      <td>1</td>\n",
       "      <td>1</td>\n",
       "      <td>38.0</td>\n",
       "      <td>1</td>\n",
       "      <td>0</td>\n",
       "      <td>71.2833</td>\n",
       "      <td>False</td>\n",
       "      <td>0</td>\n",
       "    </tr>\n",
       "    <tr>\n",
       "      <td>2</td>\n",
       "      <td>3</td>\n",
       "      <td>1</td>\n",
       "      <td>3</td>\n",
       "      <td>26.0</td>\n",
       "      <td>0</td>\n",
       "      <td>0</td>\n",
       "      <td>7.9250</td>\n",
       "      <td>False</td>\n",
       "      <td>0</td>\n",
       "    </tr>\n",
       "    <tr>\n",
       "      <td>3</td>\n",
       "      <td>4</td>\n",
       "      <td>1</td>\n",
       "      <td>1</td>\n",
       "      <td>35.0</td>\n",
       "      <td>1</td>\n",
       "      <td>0</td>\n",
       "      <td>53.1000</td>\n",
       "      <td>False</td>\n",
       "      <td>0</td>\n",
       "    </tr>\n",
       "    <tr>\n",
       "      <td>4</td>\n",
       "      <td>5</td>\n",
       "      <td>0</td>\n",
       "      <td>3</td>\n",
       "      <td>35.0</td>\n",
       "      <td>0</td>\n",
       "      <td>0</td>\n",
       "      <td>8.0500</td>\n",
       "      <td>False</td>\n",
       "      <td>1</td>\n",
       "    </tr>\n",
       "  </tbody>\n",
       "</table>\n",
       "</div>"
      ],
      "text/plain": [
       "   PassengerId  Survived  Pclass   Age  SibSp  Parch     Fare  youngin  male\n",
       "0            1         0       3  22.0      1      0   7.2500    False     1\n",
       "1            2         1       1  38.0      1      0  71.2833    False     0\n",
       "2            3         1       3  26.0      0      0   7.9250    False     0\n",
       "3            4         1       1  35.0      1      0  53.1000    False     0\n",
       "4            5         0       3  35.0      0      0   8.0500    False     1"
      ]
     },
     "execution_count": 4,
     "metadata": {},
     "output_type": "execute_result"
    }
   ],
   "source": [
    "titanic = pd.read_csv('data/cleaned_titanic.csv')\n",
    "titanic = titanic.iloc[:,:-2]\n",
    "titanic.head()"
   ]
  },
  {
   "cell_type": "markdown",
   "metadata": {},
   "source": [
    "#### For visualization purposes, we will use only two features for our first model"
   ]
  },
  {
   "cell_type": "code",
   "execution_count": 5,
   "metadata": {},
   "outputs": [
    {
     "data": {
      "text/plain": [
       "0    549\n",
       "1    340\n",
       "Name: Survived, dtype: int64"
      ]
     },
     "execution_count": 5,
     "metadata": {},
     "output_type": "execute_result"
    }
   ],
   "source": [
    "X = titanic[['Age', 'Fare']]\n",
    "y = titanic['Survived']\n",
    "y.value_counts()"
   ]
  },
  {
   "cell_type": "markdown",
   "metadata": {},
   "source": [
    "Titanic is a binary classification problem, with our target being the Survived feature"
   ]
  },
  {
   "cell_type": "code",
   "execution_count": 6,
   "metadata": {},
   "outputs": [],
   "source": [
    "from sklearn.model_selection import train_test_split\n",
    "\n",
    "X_train, X_test, y_train, y_test = train_test_split(X,y, random_state=42, test_size = .25)"
   ]
  },
  {
   "cell_type": "markdown",
   "metadata": {},
   "source": [
    "#### Then perform another tts, and put aside the test set from above until the end\n",
    "\n",
    "We will hold of from KFold or crossval for now, so that our notebook is more comprehensible."
   ]
  },
  {
   "cell_type": "code",
   "execution_count": 7,
   "metadata": {},
   "outputs": [],
   "source": [
    "X_t, X_val, y_t, y_val = train_test_split(X_train,y_train, random_state=42, test_size = .25)"
   ]
  },
  {
   "cell_type": "code",
   "execution_count": 9,
   "metadata": {
    "scrolled": true
   },
   "outputs": [
    {
     "name": "stdout",
     "output_type": "stream",
     "text": [
      "training accuracy: 0.7274549098196392\n",
      "Val accuracy: 0.6227544910179641\n",
      "Confusion Matrix, without normalization\n",
      "[[79 22]\n",
      " [41 25]]\n"
     ]
    },
    {
     "data": {
      "image/png": "[encoded data removed]",
      "text/plain": [
       "<Figure size 432x288 with 2 Axes>"
      ]
     },
     "metadata": {
      "needs_background": "light"
     },
     "output_type": "display_data"
    }
   ],
   "source": [
    "from sklearn.metrics import f1_score, confusion_matrix, recall_score, precision_score\n",
    "from src.confusion import plot_confusion_matrix\n",
    "from sklearn.preprocessing import StandardScaler, MinMaxScaler\n",
    "from sklearn.neighbors import KNeighborsClassifier\n",
    "\n",
    "knn = KNeighborsClassifier()\n",
    "\n",
    "mm = MinMaxScaler()\n",
    "X_t = mm.fit_transform(X_t)\n",
    "X_val = mm.transform(X_val)\n",
    "\n",
    "knn.fit(X_t, y_t)\n",
    "print(f\"training accuracy: {knn.score(X_t, y_t)}\")\n",
    "print(f\"Val accuracy: {knn.score(X_val, y_val)}\")\n",
    "\n",
    "y_hat = knn.predict(X_val)\n",
    "\n",
    "plot_confusion_matrix(confusion_matrix(y_val, y_hat), classes=['Perished', 'Survived'])"
   ]
  },
  {
   "cell_type": "markdown",
   "metadata": {},
   "source": [
    "# Quick review of confusion matrix and our metrics: \n",
    "  "
   ]
  },
  {
   "cell_type": "code",
   "execution_count": 10,
   "metadata": {},
   "outputs": [
    {
     "name": "stdout",
     "output_type": "stream",
     "text": [
      "Dann\n",
      "How many true positives?\n"
     ]
    }
   ],
   "source": [
    "question = 'How many true positives?'\n",
    "one_random_student(mccalister, question)\n"
   ]
  },
  {
   "cell_type": "code",
   "execution_count": 11,
   "metadata": {},
   "outputs": [
    {
     "name": "stdout",
     "output_type": "stream",
     "text": [
      "Dann\n",
      "How many true negatives?\n"
     ]
    }
   ],
   "source": [
    "question = 'How many true negatives?'\n",
    "one_random_student(mccalister, question)\n"
   ]
  },
  {
   "cell_type": "code",
   "execution_count": 12,
   "metadata": {},
   "outputs": [
    {
     "name": "stdout",
     "output_type": "stream",
     "text": [
      "Karim\n",
      "How many false positives?\n"
     ]
    }
   ],
   "source": [
    "question = 'How many false positives?'\n",
    "one_random_student(mccalister, question)"
   ]
  },
  {
   "cell_type": "code",
   "execution_count": 13,
   "metadata": {},
   "outputs": [
    {
     "name": "stdout",
     "output_type": "stream",
     "text": [
      "Dann\n",
      "How many  how many false negatives?\n"
     ]
    }
   ],
   "source": [
    "question = 'How many  how many false negatives?'\n",
    "one_random_student(mccalister, question)"
   ]
  },
  {
   "cell_type": "code",
   "execution_count": 14,
   "metadata": {},
   "outputs": [
    {
     "name": "stdout",
     "output_type": "stream",
     "text": [
      "Amanda\n",
      "Which will be higher: precision or recall\n"
     ]
    }
   ],
   "source": [
    "question = 'Which will be higher: precision or recall'\n",
    "one_random_student(mccalister, question)"
   ]
  },
  {
   "cell_type": "markdown",
   "metadata": {},
   "source": [
    "# 2. KNN Under the Hood: Voting for K"
   ]
  },
  {
   "cell_type": "markdown",
   "metadata": {},
   "source": [
    "For visualization purposes, let's pull out a small subset of our training data, and create a model using only two dimensions: Age and Fare.\n"
   ]
  },
  {
   "cell_type": "code",
   "execution_count": 15,
   "metadata": {},
   "outputs": [],
   "source": [
    "X_train, X_test, y_train, y_test = train_test_split(X,y, random_state=42, test_size = .25)\n",
    "X_t, X_val, y_t, y_val = train_test_split(X_train,y_train, random_state=42, test_size = .25)"
   ]
  },
  {
   "cell_type": "code",
   "execution_count": 16,
   "metadata": {},
   "outputs": [
    {
     "data": {
      "text/plain": [
       "Text(0.5, 1.0, 'Subsample of Training Data')"
      ]
     },
     "execution_count": 16,
     "metadata": {},
     "output_type": "execute_result"
    },
    {
     "data": {
      "image/png": "[encoded data removed]",
      "text/plain": [
       "<Figure size 720x720 with 1 Axes>"
      ]
     },
     "metadata": {
      "needs_background": "light"
     },
     "output_type": "display_data"
    }
   ],
   "source": [
    "import seaborn as sns\n",
    "\n",
    "X_for_viz = X_t.sample(15, random_state=40)\n",
    "y_for_viz = y_t[X_for_viz.index]\n",
    "\n",
    "fig, ax = plt.subplots(figsize=(10,10))\n",
    "sns.scatterplot(X_for_viz['Age'], X_for_viz['Fare'], \n",
    "                hue=y_for_viz, palette={0:'red', 1:'green'}, \n",
    "                s=200, ax=ax)\n",
    "\n",
    "ax.set_xlim(0,80)\n",
    "ax.set_ylim(0,80)\n",
    "plt.legend()\n",
    "plt.title('Subsample of Training Data')"
   ]
  },
  {
   "cell_type": "markdown",
   "metadata": {},
   "source": [
    "The KNN algorithm works by simply storing the training set in memory, then measuring the distance from the training points to a a new point.\n",
    "\n",
    "Let's drop a point from our validation set into the plot above."
   ]
  },
  {
   "cell_type": "code",
   "execution_count": 17,
   "metadata": {},
   "outputs": [
    {
     "data": {
      "text/plain": [
       "(0, 100)"
      ]
     },
     "execution_count": 17,
     "metadata": {},
     "output_type": "execute_result"
    },
    {
     "data": {
      "image/png": "[encoded data removed]",
      "text/plain": [
       "<Figure size 720x720 with 1 Axes>"
      ]
     },
     "metadata": {
      "needs_background": "light"
     },
     "output_type": "display_data"
    }
   ],
   "source": [
    "X_for_viz = X_t.sample(15, random_state=40)\n",
    "y_for_viz = y_t[X_for_viz.index]\n",
    "\n",
    "fig, ax = plt.subplots(figsize=(10,10))\n",
    "sns.scatterplot(X_for_viz['Age'], X_for_viz['Fare'], hue=y_for_viz, palette={0:'red', 1:'green'}, s=200, ax=ax)\n",
    "\n",
    "plt.legend()\n",
    "\n",
    "#################^^^Old code^^^##############\n",
    "####################New code#################\n",
    "\n",
    "# Let's take one sample from our validation set and plot it\n",
    "new_x = pd.DataFrame(X_val.loc[484]).T\n",
    "new_y = y_val[new_x.index]\n",
    "\n",
    "sns.scatterplot(new_x['Age'], new_x['Fare'], color='blue', s=200, ax=ax, label='New', marker='P')\n",
    "\n",
    "ax.set_xlim(0,100)\n",
    "ax.set_ylim(0,100)"
   ]
  },
  {
   "cell_type": "code",
   "execution_count": 18,
   "metadata": {},
   "outputs": [
    {
     "data": {
      "text/html": [
       "<div>\n",
       "<style scoped>\n",
       "    .dataframe tbody tr th:only-of-type {\n",
       "        vertical-align: middle;\n",
       "    }\n",
       "\n",
       "    .dataframe tbody tr th {\n",
       "        vertical-align: top;\n",
       "    }\n",
       "\n",
       "    .dataframe thead th {\n",
       "        text-align: right;\n",
       "    }\n",
       "</style>\n",
       "<table border=\"1\" class=\"dataframe\">\n",
       "  <thead>\n",
       "    <tr style=\"text-align: right;\">\n",
       "      <th></th>\n",
       "      <th>Age</th>\n",
       "      <th>Fare</th>\n",
       "    </tr>\n",
       "  </thead>\n",
       "  <tbody>\n",
       "    <tr>\n",
       "      <td>484</td>\n",
       "      <td>24.0</td>\n",
       "      <td>25.4667</td>\n",
       "    </tr>\n",
       "  </tbody>\n",
       "</table>\n",
       "</div>"
      ],
      "text/plain": [
       "      Age     Fare\n",
       "484  24.0  25.4667"
      ]
     },
     "execution_count": 18,
     "metadata": {},
     "output_type": "execute_result"
    }
   ],
   "source": [
    "new_x.head()"
   ]
  },
  {
   "cell_type": "markdown",
   "metadata": {},
   "source": [
    "Then, KNN finds the K nearest points. K corresponds to the n_neighbors parameter defined when we instantiate the classifier object."
   ]
  },
  {
   "cell_type": "code",
   "execution_count": 19,
   "metadata": {},
   "outputs": [],
   "source": [
    "knn = KNeighborsClassifier(n_neighbors=1)"
   ]
  },
  {
   "cell_type": "markdown",
   "metadata": {},
   "source": [
    "Let's fit our training data, then predict what our validation point will be based on the closest 1 neighbor."
   ]
  },
  {
   "cell_type": "markdown",
   "metadata": {},
   "source": [
    "# Chat poll: What will our 1 neighbor KNN classifier predict our new point to be?\n",
    "\n"
   ]
  },
  {
   "cell_type": "code",
   "execution_count": 20,
   "metadata": {},
   "outputs": [
    {
     "data": {
      "text/plain": [
       "array([1])"
      ]
     },
     "execution_count": 20,
     "metadata": {},
     "output_type": "execute_result"
    }
   ],
   "source": [
    "knn.fit(X_for_viz, y_for_viz)\n",
    "knn.predict(new_x)"
   ]
  },
  {
   "cell_type": "markdown",
   "metadata": {},
   "source": [
    "When we raise the value of K, KNN acts democratically.  It finds the K closest points, and takes a vote based on the labels."
   ]
  },
  {
   "cell_type": "markdown",
   "metadata": {},
   "source": [
    "Let's raise K to 3."
   ]
  },
  {
   "cell_type": "code",
   "execution_count": 25,
   "metadata": {},
   "outputs": [],
   "source": [
    "knn = KNeighborsClassifier(n_neighbors=3)"
   ]
  },
  {
   "cell_type": "markdown",
   "metadata": {},
   "source": [
    "# Chat poll: What will our 3 neighbor KNN classifier predict our new point to be?\n"
   ]
  },
  {
   "cell_type": "code",
   "execution_count": 26,
   "metadata": {},
   "outputs": [
    {
     "data": {
      "text/plain": [
       "array([1])"
      ]
     },
     "execution_count": 26,
     "metadata": {},
     "output_type": "execute_result"
    }
   ],
   "source": [
    "knn.fit(X_for_viz, y_for_viz)\n",
    "knn.predict(new_x)"
   ]
  },
  {
   "cell_type": "markdown",
   "metadata": {},
   "source": [
    "It is a bit harder to tell what which points are closest by eye.\n",
    "\n",
    "Let's update our plot to add indexes."
   ]
  },
  {
   "cell_type": "code",
   "execution_count": 27,
   "metadata": {},
   "outputs": [
    {
     "name": "stdout",
     "output_type": "stream",
     "text": [
      "      Age     Fare\n",
      "484  24.0  25.4667\n"
     ]
    },
    {
     "data": {
      "image/png": "[encoded data removed]",
      "text/plain": [
       "<Figure size 720x720 with 1 Axes>"
      ]
     },
     "metadata": {
      "needs_background": "light"
     },
     "output_type": "display_data"
    }
   ],
   "source": [
    "X_for_viz = X_t.sample(15, random_state=40)\n",
    "y_for_viz = y_t[X_for_viz.index]\n",
    "\n",
    "fig, ax = plt.subplots(figsize=(10,10))\n",
    "sns.scatterplot(X_for_viz['Age'], X_for_viz['Fare'], hue=y_for_viz, \n",
    "                palette={0:'red', 1:'green'}, s=200, ax=ax)\n",
    "\n",
    "\n",
    "# Now let's take another sample\n",
    "\n",
    "# new_x = X_val.sample(1, random_state=33)\n",
    "new_x = pd.DataFrame(X_val.loc[484]).T\n",
    "new_x.columns = ['Age','Fare']\n",
    "new_y = y_val[new_x.index]\n",
    "\n",
    "print(new_x)\n",
    "sns.scatterplot(new_x['Age'], new_x['Fare'], color='blue', s=200, ax=ax, label='New', marker='P')\n",
    "ax.set_xlim(0,100)\n",
    "ax.set_ylim(0,100)\n",
    "plt.legend()\n",
    "\n",
    "#################^^^Old code^^^##############\n",
    "####################New code#################\n",
    "\n",
    "# add annotations one by one with a loop\n",
    "for index in X_for_viz.index:\n",
    "    ax.text(X_for_viz.Age[index]+0.7, X_for_viz.Fare[index], s=index, horizontalalignment='left', size='medium', color='black', weight='semibold')\n",
    " \n",
    "\n"
   ]
  },
  {
   "cell_type": "markdown",
   "metadata": {},
   "source": [
    "We can the sklearn NearestNeighors object to see the exact calculations."
   ]
  },
  {
   "cell_type": "code",
   "execution_count": 28,
   "metadata": {},
   "outputs": [
    {
     "data": {
      "text/plain": [
       "(array([[ 9.04160433,  9.5778426 , 10.51549452]]), array([[11,  5,  0]]))"
      ]
     },
     "execution_count": 28,
     "metadata": {},
     "output_type": "execute_result"
    }
   ],
   "source": [
    "from sklearn.neighbors import NearestNeighbors\n",
    "\n",
    "df_for_viz = pd.merge(X_for_viz, y_for_viz, left_index=True, right_index=True)\n",
    "neighbor = NearestNeighbors(3)\n",
    "neighbor.fit(X_for_viz)\n",
    "nearest = neighbor.kneighbors(new_x)\n",
    "\n",
    "nearest"
   ]
  },
  {
   "cell_type": "code",
   "execution_count": 29,
   "metadata": {},
   "outputs": [
    {
     "data": {
      "text/html": [
       "<div>\n",
       "<style scoped>\n",
       "    .dataframe tbody tr th:only-of-type {\n",
       "        vertical-align: middle;\n",
       "    }\n",
       "\n",
       "    .dataframe tbody tr th {\n",
       "        vertical-align: top;\n",
       "    }\n",
       "\n",
       "    .dataframe thead th {\n",
       "        text-align: right;\n",
       "    }\n",
       "</style>\n",
       "<table border=\"1\" class=\"dataframe\">\n",
       "  <thead>\n",
       "    <tr style=\"text-align: right;\">\n",
       "      <th></th>\n",
       "      <th>Age</th>\n",
       "      <th>Fare</th>\n",
       "      <th>Survived</th>\n",
       "    </tr>\n",
       "  </thead>\n",
       "  <tbody>\n",
       "    <tr>\n",
       "      <td>595</td>\n",
       "      <td>29.0</td>\n",
       "      <td>33.0000</td>\n",
       "      <td>1</td>\n",
       "    </tr>\n",
       "    <tr>\n",
       "      <td>616</td>\n",
       "      <td>26.0</td>\n",
       "      <td>16.1000</td>\n",
       "      <td>0</td>\n",
       "    </tr>\n",
       "    <tr>\n",
       "      <td>621</td>\n",
       "      <td>20.0</td>\n",
       "      <td>15.7417</td>\n",
       "      <td>1</td>\n",
       "    </tr>\n",
       "  </tbody>\n",
       "</table>\n",
       "</div>"
      ],
      "text/plain": [
       "      Age     Fare  Survived\n",
       "595  29.0  33.0000         1\n",
       "616  26.0  16.1000         0\n",
       "621  20.0  15.7417         1"
      ]
     },
     "execution_count": 29,
     "metadata": {},
     "output_type": "execute_result"
    }
   ],
   "source": [
    "df_for_viz.iloc[nearest[1][0]]"
   ]
  },
  {
   "cell_type": "code",
   "execution_count": 30,
   "metadata": {},
   "outputs": [
    {
     "data": {
      "text/html": [
       "<div>\n",
       "<style scoped>\n",
       "    .dataframe tbody tr th:only-of-type {\n",
       "        vertical-align: middle;\n",
       "    }\n",
       "\n",
       "    .dataframe tbody tr th {\n",
       "        vertical-align: top;\n",
       "    }\n",
       "\n",
       "    .dataframe thead th {\n",
       "        text-align: right;\n",
       "    }\n",
       "</style>\n",
       "<table border=\"1\" class=\"dataframe\">\n",
       "  <thead>\n",
       "    <tr style=\"text-align: right;\">\n",
       "      <th></th>\n",
       "      <th>Age</th>\n",
       "      <th>Fare</th>\n",
       "    </tr>\n",
       "  </thead>\n",
       "  <tbody>\n",
       "    <tr>\n",
       "      <td>484</td>\n",
       "      <td>24.0</td>\n",
       "      <td>25.4667</td>\n",
       "    </tr>\n",
       "  </tbody>\n",
       "</table>\n",
       "</div>"
      ],
      "text/plain": [
       "      Age     Fare\n",
       "484  24.0  25.4667"
      ]
     },
     "execution_count": 30,
     "metadata": {},
     "output_type": "execute_result"
    }
   ],
   "source": [
    "new_x"
   ]
  },
  {
   "cell_type": "markdown",
   "metadata": {},
   "source": [
    "# Chat poll: What will our 5 neighbor KNN classifier predict our new point to be?"
   ]
  },
  {
   "cell_type": "code",
   "execution_count": 31,
   "metadata": {},
   "outputs": [
    {
     "data": {
      "text/plain": [
       "array([0])"
      ]
     },
     "execution_count": 31,
     "metadata": {},
     "output_type": "execute_result"
    }
   ],
   "source": [
    "knn = KNeighborsClassifier(n_neighbors=5)\n",
    "knn.fit(X_for_viz, y_for_viz)\n",
    "knn.predict(new_x)"
   ]
  },
  {
   "cell_type": "markdown",
   "metadata": {},
   "source": [
    "Let's iterate through K, 1 through 10, and see the predictions."
   ]
  },
  {
   "cell_type": "code",
   "execution_count": 32,
   "metadata": {},
   "outputs": [
    {
     "name": "stdout",
     "output_type": "stream",
     "text": [
      "[1]\n",
      "[0]\n",
      "[1]\n",
      "[0]\n",
      "[0]\n",
      "[0]\n",
      "[0]\n",
      "[0]\n",
      "[0]\n"
     ]
    }
   ],
   "source": [
    "for k in range(1,10):\n",
    "    knn = KNeighborsClassifier(n_neighbors=k)\n",
    "    knn.fit(X_for_viz, y_for_viz)\n",
    "    print(knn.predict(new_x))\n"
   ]
  },
  {
   "cell_type": "markdown",
   "metadata": {},
   "source": [
    "What K was correct?"
   ]
  },
  {
   "cell_type": "code",
   "execution_count": 33,
   "metadata": {},
   "outputs": [
    {
     "data": {
      "text/plain": [
       "484    0\n",
       "Name: Survived, dtype: int64"
      ]
     },
     "execution_count": 33,
     "metadata": {},
     "output_type": "execute_result"
    }
   ],
   "source": [
    "new_y"
   ]
  },
  {
   "cell_type": "markdown",
   "metadata": {},
   "source": [
    "# 3. Different types of distance"
   ]
  },
  {
   "cell_type": "markdown",
   "metadata": {},
   "source": [
    "How did the algo calculate those distances? "
   ]
  },
  {
   "cell_type": "code",
   "execution_count": 34,
   "metadata": {},
   "outputs": [
    {
     "data": {
      "text/plain": [
       "(array([[ 9.04160433,  9.5778426 , 10.51549452]]), array([[11,  5,  0]]))"
      ]
     },
     "execution_count": 34,
     "metadata": {},
     "output_type": "execute_result"
    }
   ],
   "source": [
    "nearest"
   ]
  },
  {
   "cell_type": "markdown",
   "metadata": {},
   "source": [
    "### Euclidean Distance\n",
    "\n",
    "**Euclidean distance** refers to the distance between two points. These points can be in different dimensional space and are represented by different forms of coordinates. In one-dimensional space, the points are just on a straight number line.\n"
   ]
  },
  {
   "cell_type": "markdown",
   "metadata": {},
   "source": [
    "### Measuring distance in a 2-d Space\n",
    "\n",
    "In two-dimensional space, the coordinates are given as points on the x- and y-axes\n",
    "\n",
    "![alt text](img/euclidean_2d.png)\n",
    "### Measuring distance in a 3-d Space\n",
    "\n",
    "In three-dimensional space, x-, y- and z-axes are used. \n",
    "\n",
    "$$\\sqrt{(x_1-x_2)^2 + (y_1-y_2)^2 +  (z_1-z_2)^2}$$\n",
    "![alt text](img/vectorgraph.jpg)"
   ]
  },
  {
   "cell_type": "code",
   "execution_count": 35,
   "metadata": {},
   "outputs": [
    {
     "data": {
      "text/plain": [
       "(array([[ 9.04160433,  9.5778426 , 10.51549452]]), array([[11,  5,  0]]))"
      ]
     },
     "execution_count": 35,
     "metadata": {},
     "output_type": "execute_result"
    }
   ],
   "source": [
    "# Let's reproduce those numbers:\n",
    "nearest"
   ]
  },
  {
   "cell_type": "code",
   "execution_count": 36,
   "metadata": {},
   "outputs": [
    {
     "data": {
      "text/plain": [
       "Age         29.0\n",
       "Fare        33.0\n",
       "Survived     1.0\n",
       "Name: 595, dtype: float64"
      ]
     },
     "execution_count": 36,
     "metadata": {},
     "output_type": "execute_result"
    }
   ],
   "source": [
    "df_for_viz.iloc[11]\n"
   ]
  },
  {
   "cell_type": "code",
   "execution_count": 37,
   "metadata": {},
   "outputs": [
    {
     "data": {
      "text/html": [
       "<div>\n",
       "<style scoped>\n",
       "    .dataframe tbody tr th:only-of-type {\n",
       "        vertical-align: middle;\n",
       "    }\n",
       "\n",
       "    .dataframe tbody tr th {\n",
       "        vertical-align: top;\n",
       "    }\n",
       "\n",
       "    .dataframe thead th {\n",
       "        text-align: right;\n",
       "    }\n",
       "</style>\n",
       "<table border=\"1\" class=\"dataframe\">\n",
       "  <thead>\n",
       "    <tr style=\"text-align: right;\">\n",
       "      <th></th>\n",
       "      <th>Age</th>\n",
       "      <th>Fare</th>\n",
       "    </tr>\n",
       "  </thead>\n",
       "  <tbody>\n",
       "    <tr>\n",
       "      <td>484</td>\n",
       "      <td>24.0</td>\n",
       "      <td>25.4667</td>\n",
       "    </tr>\n",
       "  </tbody>\n",
       "</table>\n",
       "</div>"
      ],
      "text/plain": [
       "      Age     Fare\n",
       "484  24.0  25.4667"
      ]
     },
     "execution_count": 37,
     "metadata": {},
     "output_type": "execute_result"
    }
   ],
   "source": [
    "new_x"
   ]
  },
  {
   "cell_type": "code",
   "execution_count": 38,
   "metadata": {},
   "outputs": [],
   "source": [
    "def euclid(train_X, val_X):\n",
    "    \"\"\"\n",
    "    :param train_X: one record from the training set\n",
    "                    (type series or dataframe including target (survived))\n",
    "    :param val_X: one record from the validation set\n",
    "                    series or dataframe include target (survived)\n",
    "    :return: The euclidean distance between train_X and val_X\n",
    "    \"\"\"\n",
    "    diff = train_X - val_X\n",
    "\n",
    "    # Remove survived column\n",
    "    diff = diff.iloc[:, :-1]\n",
    "\n",
    "    dist = np.sqrt((diff ** 2).sum(axis=1))\n",
    "\n",
    "    return dist\n",
    "\n",
    "    "
   ]
  },
  {
   "cell_type": "code",
   "execution_count": 39,
   "metadata": {},
   "outputs": [
    {
     "data": {
      "text/plain": [
       "484    9.041604\n",
       "dtype: float64"
      ]
     },
     "execution_count": 39,
     "metadata": {},
     "output_type": "execute_result"
    }
   ],
   "source": [
    "euclid(df_for_viz.iloc[11], new_x)"
   ]
  },
  {
   "cell_type": "code",
   "execution_count": 40,
   "metadata": {},
   "outputs": [
    {
     "data": {
      "text/plain": [
       "484    9.577843\n",
       "dtype: float64"
      ]
     },
     "execution_count": 40,
     "metadata": {},
     "output_type": "execute_result"
    }
   ],
   "source": [
    "euclid(df_for_viz.iloc[5], new_x)"
   ]
  },
  {
   "cell_type": "code",
   "execution_count": 41,
   "metadata": {},
   "outputs": [
    {
     "data": {
      "text/plain": [
       "484    10.515495\n",
       "dtype: float64"
      ]
     },
     "execution_count": 41,
     "metadata": {},
     "output_type": "execute_result"
    }
   ],
   "source": [
    "euclid(df_for_viz.iloc[0], new_x)"
   ]
  },
  {
   "cell_type": "markdown",
   "metadata": {},
   "source": [
    "# Manhattan distance\n",
    "\n",
    "Manhattan distance is the distance measured if you walked along a city block instead of a straight line. \n",
    "\n",
    "> if 𝑥=(𝑎,𝑏) and 𝑦=(𝑐,𝑑),  \n",
    "> Manhattan distance = |𝑎−𝑐|+|𝑏−𝑑|\n",
    "\n",
    "![](img/manhattan.png)"
   ]
  },
  {
   "cell_type": "markdown",
   "metadata": {},
   "source": [
    "# Pairs: \n",
    "\n",
    "Write an function that calculates Manhattan distance between two points\n",
    "\n",
    "Calculate the distance between new_X and the 15 training points.\n",
    "\n",
    "Based on 5 K, determine what decision a KNN algorithm would make if it used Manhattan distance.\n",
    "\n",
    "\n"
   ]
  },
  {
   "cell_type": "code",
   "execution_count": null,
   "metadata": {},
   "outputs": [],
   "source": [
    "# your code here\n",
    "def manhattan(x_train, x_val):\n",
    "    diff = "
   ]
  },
  {
   "cell_type": "code",
   "execution_count": 42,
   "metadata": {},
   "outputs": [],
   "source": [
    "#__SOLUTION__\n",
    "\n",
    "def manhattan(train_X, index, val_X):\n",
    "    \"\"\"\n",
    "    :param train_X: one record from the training set\n",
    "                    (type series or dataframe including target (survived))\n",
    "    :param val_X: one record from the validation set\n",
    "                    series or dataframe include target (survived)\n",
    "    :return: the Manhattan distance between train_X and val_X\n",
    "    \"\"\"\n",
    "    train_X = train_X.loc[index]\n",
    "    diff = train_X - val_X\n",
    "    # Remove survived column\n",
    "    diff = diff.iloc[:, :-1]\n",
    "    dist = np.abs(diff).sum(axis=1)\n",
    "    \n",
    "    return (dist.values[0],index, train_X.Survived)\n",
    "\n"
   ]
  },
  {
   "cell_type": "code",
   "execution_count": 43,
   "metadata": {
    "scrolled": true
   },
   "outputs": [
    {
     "data": {
      "text/plain": [
       "[(11.366699999999998, 616, 0.0),\n",
       " (12.5333, 595, 1.0),\n",
       " (13.4667, 133, 0.0),\n",
       " (13.725, 621, 1.0),\n",
       " (17.7167, 827, 1.0),\n",
       " (18.2291, 792, 0.0),\n",
       " (19.6583, 786, 0.0),\n",
       " (19.9667, 143, 0.0),\n",
       " (22.6125, 191, 1.0),\n",
       " (23.4333, 166, 0.0),\n",
       " (33.570899999999995, 560, 0.0),\n",
       " (39.0291, 73, 1.0),\n",
       " (43.13329999999999, 150, 1.0),\n",
       " (44.4333, 385, 0.0),\n",
       " (79.00829999999999, 61, 0.0)]"
      ]
     },
     "execution_count": 43,
     "metadata": {},
     "output_type": "execute_result"
    }
   ],
   "source": [
    "manh_diffs = []\n",
    "for index in df_for_viz.index:\n",
    "    manh_diffs.append(manhattan(df_for_viz,index, new_x))\n",
    "    \n",
    "sorted(manh_diffs)"
   ]
  },
  {
   "cell_type": "code",
   "execution_count": 44,
   "metadata": {},
   "outputs": [
    {
     "data": {
      "text/plain": [
       "(array([[11.3667, 12.5333, 13.4667, 13.725 , 17.7167, 18.2291, 19.6583,\n",
       "         19.9667, 22.6125, 23.4333]]),\n",
       " array([[ 5, 11,  9,  0, 10,  4,  3,  6, 12, 14]]))"
      ]
     },
     "execution_count": 44,
     "metadata": {},
     "output_type": "execute_result"
    }
   ],
   "source": [
    "from sklearn.neighbors import NearestNeighbors\n",
    "\n",
    "neighbor = NearestNeighbors(10, p=1)\n",
    "neighbor.fit(X_for_viz)\n",
    "nearest = neighbor.kneighbors(new_x)\n",
    "\n",
    "nearest"
   ]
  },
  {
   "cell_type": "code",
   "execution_count": 45,
   "metadata": {},
   "outputs": [
    {
     "data": {
      "text/html": [
       "<div>\n",
       "<style scoped>\n",
       "    .dataframe tbody tr th:only-of-type {\n",
       "        vertical-align: middle;\n",
       "    }\n",
       "\n",
       "    .dataframe tbody tr th {\n",
       "        vertical-align: top;\n",
       "    }\n",
       "\n",
       "    .dataframe thead th {\n",
       "        text-align: right;\n",
       "    }\n",
       "</style>\n",
       "<table border=\"1\" class=\"dataframe\">\n",
       "  <thead>\n",
       "    <tr style=\"text-align: right;\">\n",
       "      <th></th>\n",
       "      <th>Age</th>\n",
       "      <th>Fare</th>\n",
       "      <th>Survived</th>\n",
       "    </tr>\n",
       "  </thead>\n",
       "  <tbody>\n",
       "    <tr>\n",
       "      <td>616</td>\n",
       "      <td>26.0</td>\n",
       "      <td>16.1000</td>\n",
       "      <td>0</td>\n",
       "    </tr>\n",
       "    <tr>\n",
       "      <td>595</td>\n",
       "      <td>29.0</td>\n",
       "      <td>33.0000</td>\n",
       "      <td>1</td>\n",
       "    </tr>\n",
       "    <tr>\n",
       "      <td>133</td>\n",
       "      <td>25.0</td>\n",
       "      <td>13.0000</td>\n",
       "      <td>0</td>\n",
       "    </tr>\n",
       "    <tr>\n",
       "      <td>621</td>\n",
       "      <td>20.0</td>\n",
       "      <td>15.7417</td>\n",
       "      <td>1</td>\n",
       "    </tr>\n",
       "    <tr>\n",
       "      <td>827</td>\n",
       "      <td>24.0</td>\n",
       "      <td>7.7500</td>\n",
       "      <td>1</td>\n",
       "    </tr>\n",
       "    <tr>\n",
       "      <td>792</td>\n",
       "      <td>37.0</td>\n",
       "      <td>30.6958</td>\n",
       "      <td>0</td>\n",
       "    </tr>\n",
       "    <tr>\n",
       "      <td>786</td>\n",
       "      <td>8.0</td>\n",
       "      <td>29.1250</td>\n",
       "      <td>0</td>\n",
       "    </tr>\n",
       "    <tr>\n",
       "      <td>143</td>\n",
       "      <td>18.0</td>\n",
       "      <td>11.5000</td>\n",
       "      <td>0</td>\n",
       "    </tr>\n",
       "    <tr>\n",
       "      <td>191</td>\n",
       "      <td>19.0</td>\n",
       "      <td>7.8542</td>\n",
       "      <td>1</td>\n",
       "    </tr>\n",
       "    <tr>\n",
       "      <td>166</td>\n",
       "      <td>45.0</td>\n",
       "      <td>27.9000</td>\n",
       "      <td>0</td>\n",
       "    </tr>\n",
       "  </tbody>\n",
       "</table>\n",
       "</div>"
      ],
      "text/plain": [
       "      Age     Fare  Survived\n",
       "616  26.0  16.1000         0\n",
       "595  29.0  33.0000         1\n",
       "133  25.0  13.0000         0\n",
       "621  20.0  15.7417         1\n",
       "827  24.0   7.7500         1\n",
       "792  37.0  30.6958         0\n",
       "786   8.0  29.1250         0\n",
       "143  18.0  11.5000         0\n",
       "191  19.0   7.8542         1\n",
       "166  45.0  27.9000         0"
      ]
     },
     "execution_count": 45,
     "metadata": {},
     "output_type": "execute_result"
    }
   ],
   "source": [
    "df_for_viz.iloc[nearest[1][0]]"
   ]
  },
  {
   "cell_type": "code",
   "execution_count": 46,
   "metadata": {},
   "outputs": [
    {
     "name": "stdout",
     "output_type": "stream",
     "text": [
      "      Age     Fare\n",
      "484  24.0  25.4667\n"
     ]
    },
    {
     "data": {
      "image/png": "[encoded data removed]",
      "text/plain": [
       "<Figure size 720x720 with 1 Axes>"
      ]
     },
     "metadata": {
      "needs_background": "light"
     },
     "output_type": "display_data"
    }
   ],
   "source": [
    "from src.plot_train import plot_train\n",
    "plot_train(X_t, y_t, X_val, y_val)"
   ]
  },
  {
   "cell_type": "markdown",
   "metadata": {},
   "source": [
    "If we change the distance metric, our prediction should change for K = 5."
   ]
  },
  {
   "cell_type": "code",
   "execution_count": 47,
   "metadata": {},
   "outputs": [
    {
     "data": {
      "text/plain": [
       "array([0])"
      ]
     },
     "execution_count": 47,
     "metadata": {},
     "output_type": "execute_result"
    }
   ],
   "source": [
    "from sklearn.neighbors import KNeighborsClassifier\n",
    "\n",
    "knn_euc = KNeighborsClassifier(5, p=2)\n",
    "knn_euc.fit(X_for_viz, y_for_viz)\n",
    "knn_euc.predict(new_x)"
   ]
  },
  {
   "cell_type": "code",
   "execution_count": 48,
   "metadata": {},
   "outputs": [
    {
     "data": {
      "text/plain": [
       "array([1])"
      ]
     },
     "execution_count": 48,
     "metadata": {},
     "output_type": "execute_result"
    }
   ],
   "source": [
    "knn_man = KNeighborsClassifier(5, p=1)\n",
    "knn_man.fit(X_for_viz, y_for_viz)\n",
    "knn_man.predict(new_x)"
   ]
  },
  {
   "cell_type": "code",
   "execution_count": 49,
   "metadata": {},
   "outputs": [
    {
     "data": {
      "text/plain": [
       "484    0\n",
       "Name: Survived, dtype: int64"
      ]
     },
     "execution_count": 49,
     "metadata": {},
     "output_type": "execute_result"
    }
   ],
   "source": [
    "# Which got it right? \n",
    "new_y"
   ]
  },
  {
   "cell_type": "markdown",
   "metadata": {},
   "source": [
    "# 4. Importance of Scaling"
   ]
  },
  {
   "cell_type": "markdown",
   "metadata": {},
   "source": [
    "You may have suspected that we were leaving something out. For any distance based algorithms, scaling is very important.  Look at how the shape of array changes before and after scaling."
   ]
  },
  {
   "cell_type": "markdown",
   "metadata": {},
   "source": [
    "![non-normal](img/nonnormal.png)"
   ]
  },
  {
   "cell_type": "markdown",
   "metadata": {},
   "source": [
    "![normal](img/normalized.png)"
   ]
  },
  {
   "cell_type": "markdown",
   "metadata": {},
   "source": [
    "Let's look at our data for viz dataset"
   ]
  },
  {
   "cell_type": "code",
   "execution_count": 50,
   "metadata": {},
   "outputs": [
    {
     "name": "stdout",
     "output_type": "stream",
     "text": [
      "training accuracy: 0.717434869739479\n",
      "Val accuracy: 0.6467065868263473\n"
     ]
    }
   ],
   "source": [
    "from sklearn.model_selection import train_test_split\n",
    "\n",
    "X_train, X_test, y_train, y_test = train_test_split(X,y, random_state=42, test_size = .25)\n",
    "X_t, X_val, y_t, y_val = train_test_split(X_train,y_train, random_state=42, test_size = .25)\n",
    "\n",
    "knn = KNeighborsClassifier()\n",
    "\n",
    "ss = StandardScaler()\n",
    "X_ind = X_t.index\n",
    "X_col = X_t.columns\n",
    "\n",
    "X_t_s = pd.DataFrame(ss.fit_transform(X_t))\n",
    "X_t_s.index = X_ind\n",
    "X_t_s.columns = X_col\n",
    "\n",
    "X_v_ind = X_val.index\n",
    "X_val_s = pd.DataFrame(ss.transform(X_val))\n",
    "X_val_s.index = X_v_ind\n",
    "X_val_s.columns = X_col\n",
    "\n",
    "knn.fit(X_t_s, y_t)\n",
    "print(f\"training accuracy: {knn.score(X_t_s, y_t)}\")\n",
    "print(f\"Val accuracy: {knn.score(X_val_s, y_val)}\")\n",
    "\n",
    "y_hat = knn.predict(X_val_s)\n",
    "\n"
   ]
  },
  {
   "cell_type": "code",
   "execution_count": 51,
   "metadata": {},
   "outputs": [
    {
     "name": "stdout",
     "output_type": "stream",
     "text": [
      "      Age     Fare\n",
      "484  24.0  25.4667\n",
      "        Age      Fare\n",
      "484 -0.4055 -0.154222\n"
     ]
    },
    {
     "data": {
      "image/png": "[encoded data removed]",
      "text/plain": [
       "<Figure size 720x720 with 1 Axes>"
      ]
     },
     "metadata": {
      "needs_background": "light"
     },
     "output_type": "display_data"
    },
    {
     "data": {
      "image/png": "[encoded data removed]",
      "text/plain": [
       "<Figure size 720x720 with 1 Axes>"
      ]
     },
     "metadata": {
      "needs_background": "light"
     },
     "output_type": "display_data"
    }
   ],
   "source": [
    "plot_train(X_t, y_t, X_val, y_val)\n",
    "plot_train(X_t_s, y_t, X_val_s, y_val, -2,2, text_pos=.1 )"
   ]
  },
  {
   "cell_type": "markdown",
   "metadata": {},
   "source": [
    "Look at how much that changes things.\n",
    "\n",
    "Look at 166 to 150.  \n",
    "Look at the group 621, 143,192"
   ]
  },
  {
   "cell_type": "markdown",
   "metadata": {},
   "source": [
    "Now let's run our classifier on scaled data and compare to unscaled."
   ]
  },
  {
   "cell_type": "code",
   "execution_count": 52,
   "metadata": {},
   "outputs": [
    {
     "name": "stdout",
     "output_type": "stream",
     "text": [
      "[1]\n",
      "[0]\n",
      "[1]\n",
      "[0]\n",
      "[0]\n",
      "[0]\n",
      "[0]\n",
      "[0]\n",
      "[0]\n",
      "[0]\n"
     ]
    }
   ],
   "source": [
    "from src.k_classify import predict_one\n",
    "\n",
    "titanic = pd.read_csv('data/cleaned_titanic.csv')\n",
    "X = titanic[['Age', 'Fare']]\n",
    "y = titanic['Survived']\n",
    "\n",
    "X_train, X_test, y_train, y_test = train_test_split(X,y, random_state=42, test_size = .25)\n",
    "X_t, X_val, y_t, y_val = train_test_split(X_train,y_train, random_state=42, test_size = .25)\n",
    "\n",
    "predict_one(X_t, X_val, y_t, y_val)"
   ]
  },
  {
   "cell_type": "code",
   "execution_count": 55,
   "metadata": {},
   "outputs": [
    {
     "name": "stdout",
     "output_type": "stream",
     "text": [
      "[0]\n",
      "[0]\n",
      "[0]\n",
      "[0]\n",
      "[1]\n",
      "[1]\n",
      "[1]\n",
      "[1]\n",
      "[1]\n",
      "[1]\n"
     ]
    }
   ],
   "source": [
    "mm = MinMaxScaler()\n",
    "\n",
    "X_t_s = pd.DataFrame(mm.fit_transform(X_t))\n",
    "X_t_s.index = X_t.index\n",
    "X_t_s.columns = X_t.columns\n",
    "\n",
    "X_val_s = pd.DataFrame(mm.transform(X_val))\n",
    "X_val_s.index = X_val.index\n",
    "X_val_s.columns = X_val.columns\n",
    "\n",
    "\n",
    "predict_one(X_t_s, X_val_s, y_t, y_val)"
   ]
  },
  {
   "cell_type": "code",
   "execution_count": 56,
   "metadata": {},
   "outputs": [
    {
     "name": "stdout",
     "output_type": "stream",
     "text": [
      "[0]\n",
      "[0]\n",
      "[0]\n",
      "[0]\n",
      "[1]\n",
      "[1]\n",
      "[1]\n",
      "[1]\n",
      "[1]\n",
      "[1]\n"
     ]
    }
   ],
   "source": [
    "ss = StandardScaler()\n",
    "\n",
    "X_t_s = pd.DataFrame(ss.fit_transform(X_t))\n",
    "X_t_s.index = X_t.index\n",
    "X_t_s.columns = X_t.columns\n",
    "\n",
    "X_val_s = pd.DataFrame(ss.transform(X_val))\n",
    "X_val_s.index = X_val.index\n",
    "X_val_s.columns = X_val.columns\n",
    "\n",
    "\n",
    "predict_one(X_t_s, X_val_s, y_t, y_val)"
   ]
  },
  {
   "cell_type": "markdown",
   "metadata": {},
   "source": [
    "## Should we use a Standard Scaler or Min-Max Scaler?  \n",
    "https://sebastianraschka.com/Articles/2014_about_feature_scaling.html   \n",
    "http://datareality.blogspot.com/2016/11/scaling-normalizing-standardizing-which.html"
   ]
  },
  {
   "cell_type": "markdown",
   "metadata": {},
   "source": [
    "# 5. Let's unpack: KNN is a supervised, non-parametric, descriminative, lazy-learning algorithm"
   ]
  },
  {
   "cell_type": "markdown",
   "metadata": {},
   "source": [
    "## Supervised\n",
    "You should be very comfortable with the idea of supervised learning by now.  Supervised learning involves labels.  KNN needs labels for the voting process.\n",
    "\n"
   ]
  },
  {
   "cell_type": "markdown",
   "metadata": {},
   "source": [
    "# Non-parametric\n",
    "\n",
    "Let's look at the fit KNN classifier."
   ]
  },
  {
   "cell_type": "code",
   "execution_count": 57,
   "metadata": {},
   "outputs": [
    {
     "data": {
      "text/plain": [
       "{'n_neighbors': 5,\n",
       " 'radius': None,\n",
       " 'algorithm': 'auto',\n",
       " 'leaf_size': 30,\n",
       " 'metric': 'minkowski',\n",
       " 'metric_params': None,\n",
       " 'p': 2,\n",
       " 'n_jobs': None,\n",
       " 'weights': 'uniform'}"
      ]
     },
     "execution_count": 57,
     "metadata": {},
     "output_type": "execute_result"
    }
   ],
   "source": [
    "knn = KNeighborsClassifier()\n",
    "knn.__dict__"
   ]
  },
  {
   "cell_type": "code",
   "execution_count": 58,
   "metadata": {},
   "outputs": [
    {
     "data": {
      "text/plain": [
       "{'n_neighbors': 5,\n",
       " 'radius': None,\n",
       " 'algorithm': 'auto',\n",
       " 'leaf_size': 30,\n",
       " 'metric': 'minkowski',\n",
       " 'metric_params': None,\n",
       " 'p': 2,\n",
       " 'n_jobs': None,\n",
       " 'weights': 'uniform',\n",
       " 'outputs_2d_': False,\n",
       " 'classes_': array([0, 1]),\n",
       " '_y': array([0, 1, 0, 1, 0, 0, 1, 1, 0, 1, 1, 0, 1, 1, 0, 0, 0, 0, 0, 0, 0, 0,\n",
       "        1, 1, 0, 1, 0, 0, 1, 1, 0, 0, 0, 1, 0, 0, 0, 0, 0, 1, 0, 0, 0, 0,\n",
       "        0, 1, 0, 0, 0, 0, 1, 1, 1, 1, 0, 0, 0, 0, 1, 1, 1, 1, 0, 0, 1, 0,\n",
       "        0, 0, 0, 1, 0, 1, 1, 1, 1, 0, 1, 0, 1, 0, 0, 0, 1, 0, 1, 0, 1, 0,\n",
       "        0, 0, 0, 1, 1, 0, 0, 0, 0, 0, 1, 0, 1, 1, 0, 0, 0, 1, 0, 0, 0, 0,\n",
       "        0, 1, 0, 0, 0, 0, 1, 0, 0, 0, 1, 1, 0, 1, 0, 1, 0, 0, 0, 1, 0, 0,\n",
       "        0, 1, 0, 1, 0, 1, 1, 1, 1, 0, 1, 1, 0, 0, 0, 1, 1, 0, 0, 1, 1, 0,\n",
       "        0, 0, 1, 0, 0, 0, 0, 1, 0, 1, 0, 0, 1, 0, 0, 0, 1, 1, 1, 1, 1, 0,\n",
       "        1, 0, 0, 0, 1, 0, 0, 1, 1, 0, 0, 1, 0, 1, 0, 1, 1, 1, 0, 0, 1, 0,\n",
       "        0, 0, 0, 0, 0, 0, 1, 0, 1, 0, 0, 0, 1, 0, 0, 1, 0, 0, 0, 0, 0, 0,\n",
       "        1, 1, 0, 1, 0, 1, 1, 0, 1, 1, 1, 1, 0, 0, 0, 0, 0, 1, 1, 0, 0, 0,\n",
       "        0, 1, 1, 0, 1, 0, 1, 1, 0, 0, 0, 0, 1, 0, 0, 0, 0, 1, 1, 1, 0, 1,\n",
       "        0, 0, 0, 0, 0, 0, 0, 0, 0, 0, 0, 0, 0, 1, 1, 1, 0, 1, 1, 1, 0, 0,\n",
       "        1, 0, 0, 0, 0, 0, 0, 0, 1, 1, 0, 0, 0, 0, 1, 1, 0, 0, 0, 0, 1, 0,\n",
       "        1, 0, 0, 0, 0, 1, 0, 0, 0, 1, 1, 0, 0, 0, 0, 0, 1, 0, 0, 0, 0, 1,\n",
       "        1, 0, 1, 0, 0, 1, 1, 0, 1, 1, 0, 0, 0, 0, 0, 0, 0, 1, 0, 0, 0, 0,\n",
       "        1, 1, 0, 0, 1, 0, 0, 0, 0, 1, 0, 0, 0, 1, 0, 0, 1, 0, 0, 0, 1, 0,\n",
       "        0, 0, 0, 1, 0, 0, 0, 0, 0, 1, 1, 1, 1, 0, 1, 0, 0, 0, 0, 0, 0, 0,\n",
       "        0, 1, 0, 0, 0, 0, 0, 1, 0, 1, 0, 1, 1, 1, 0, 0, 1, 1, 1, 1, 1, 0,\n",
       "        0, 1, 0, 0, 1, 1, 0, 0, 0, 1, 0, 1, 0, 0, 1, 0, 1, 0, 1, 1, 0, 0,\n",
       "        0, 1, 1, 1, 1, 0, 1, 1, 0, 1, 0, 1, 0, 1, 0, 1, 0, 0, 0, 0, 0, 1,\n",
       "        0, 1, 0, 1, 0, 1, 1, 1, 0, 1, 1, 1, 0, 0, 1, 1, 1, 0, 0, 0, 1, 0,\n",
       "        0, 0, 0, 1, 1, 1, 1, 1, 1, 0, 0, 0, 1, 0, 0]),\n",
       " 'effective_metric_params_': {},\n",
       " 'effective_metric_': 'euclidean',\n",
       " '_fit_method': 'kd_tree',\n",
       " '_fit_X': array([[-4.05500206e-01, -5.15204192e-01],\n",
       "        [-4.05500206e-01, -1.80868480e-01],\n",
       "        [-1.91248684e+00, -8.01881158e-02],\n",
       "        [ 5.74041108e-01,  9.93313488e-01],\n",
       "        [-1.79452210e-01, -3.77084898e-01],\n",
       "        [-3.30150874e-01, -4.06513920e-01],\n",
       "        [-8.57596197e-01, -4.80379916e-01],\n",
       "        [-2.16340012e+00, -3.76158032e-01],\n",
       "        [-6.31548202e-01, -5.09218011e-01],\n",
       "        [-1.91248684e+00, -2.23872656e-01],\n",
       "        [-1.04102879e-01, -1.32299058e-01],\n",
       "        [ 4.98691776e-01,  9.26109598e-01],\n",
       "        [-1.91248684e+00,  9.86989344e-01],\n",
       "        [-1.79452210e-01, -5.23618844e-02],\n",
       "        [ 4.98691776e-01, -3.54908909e-01],\n",
       "        [-6.31548202e-01, -4.70767218e-01],\n",
       "        [ 5.74041108e-01, -1.32299058e-01],\n",
       "        [-4.05500206e-01, -1.80868480e-01],\n",
       "        [-1.68643885e+00, -8.01881158e-02],\n",
       "        [-1.46039085e+00, -1.80868480e-01],\n",
       "        [ 1.21945117e-01, -4.57107068e-01],\n",
       "        [-3.30150874e-01,  1.71850758e-01],\n",
       "        [ 6.49390440e-01,  7.72980328e-01],\n",
       "        [-8.57596197e-01,  3.93488411e+00],\n",
       "        [-2.87535466e-02, -4.57107068e-01],\n",
       "        [-4.05500206e-01,  4.73721858e-01],\n",
       "        [-8.57596197e-01, -4.36869809e-01],\n",
       "        [-1.53574018e+00,  2.60574949e-02],\n",
       "        [-2.87535466e-02, -1.43429551e-01],\n",
       "        [-4.05500206e-01, -5.13012497e-01],\n",
       "        [-4.05500206e-01, -5.06688353e-01],\n",
       "        [ 2.68382240e+00, -5.12759531e-01],\n",
       "        [-4.05500206e-01, -5.16806983e-01],\n",
       "        [-4.05500206e-01, -5.11156740e-01],\n",
       "        [-7.82246865e-01,  7.41209855e-02],\n",
       "        [-4.05500206e-01, -5.22878161e-01],\n",
       "        [-4.05500206e-01, -5.09808939e-01],\n",
       "        [-1.04102879e-01, -4.77344328e-01],\n",
       "        [-8.57596197e-01, -2.60552688e-01],\n",
       "        [-2.87535466e-02, -4.77344328e-01],\n",
       "        [ 1.55358242e+00, -4.06513920e-01],\n",
       "        [ 1.47823309e+00, -6.69598290e-01],\n",
       "        [ 5.74041108e-01, -4.83994291e-02],\n",
       "        [-7.06897534e-01, -5.88396287e-01],\n",
       "        [ 1.40288376e+00,  2.60574949e-02],\n",
       "        [ 4.65957852e-02, -2.44615847e-01],\n",
       "        [-6.31548202e-01, -5.10650809e-01],\n",
       "        [ 2.15637708e+00,  1.62277725e+00],\n",
       "        [-4.05500206e-01, -1.80868480e-01],\n",
       "        [-8.57596197e-01, -3.77084898e-01],\n",
       "        [-4.80849538e-01,  4.65280088e+00],\n",
       "        [-5.56198870e-01,  3.32146040e-01],\n",
       "        [ 1.70428109e+00,  1.22258544e+00],\n",
       "        [ 1.10148643e+00, -5.09218011e-01],\n",
       "        [ 4.98691776e-01, -1.80868480e-01],\n",
       "        [-4.05500206e-01, -3.77001925e-01],\n",
       "        [-4.80849538e-01, -4.57107068e-01],\n",
       "        [ 2.23172641e+00, -5.22878161e-01],\n",
       "        [-1.04102879e-01, -1.83904069e-01],\n",
       "        [-1.98783618e+00, -2.90149680e-01],\n",
       "        [-4.05500206e-01, -3.43778417e-01],\n",
       "        [-1.00829486e+00,  1.08092463e+00],\n",
       "        [ 8.00089104e-01, -5.09808939e-01],\n",
       "        [-9.32945529e-01, -4.94293032e-01],\n",
       "        [-4.05500206e-01, -5.12759531e-01],\n",
       "        [-4.05500206e-01, -5.06688353e-01],\n",
       "        [-4.05500206e-01, -5.23299096e-01],\n",
       "        [-7.82246865e-01,  4.65280088e+00],\n",
       "        [ 1.70428109e+00,  9.42299405e-01],\n",
       "        [ 4.65957852e-02,  1.08092463e+00],\n",
       "        [-4.05500206e-01, -5.09808939e-01],\n",
       "        [-4.05500206e-01, -3.43778417e-01],\n",
       "        [ 8.00089104e-01,  1.19654819e-01],\n",
       "        [ 2.30707574e+00,  9.33192638e-01],\n",
       "        [ 4.65957852e-02, -4.19668139e-01],\n",
       "        [-6.69222868e-01, -5.22878161e-01],\n",
       "        [-2.13853484e+00, -3.51029427e-01],\n",
       "        [-2.06318551e+00, -8.01881158e-02],\n",
       "        [ 1.62893175e+00, -1.32299058e-01],\n",
       "        [-1.00829486e+00, -5.06688353e-01],\n",
       "        [-4.80849538e-01, -4.36869809e-01],\n",
       "        [ 1.32753443e+00, -3.66039402e-01],\n",
       "        [-4.05500206e-01, -3.76158032e-01],\n",
       "        [-4.80849538e-01, -4.06513920e-01],\n",
       "        [-4.05500206e-01, -5.25069856e-01],\n",
       "        [ 2.72643781e-01, -5.09808939e-01],\n",
       "        [-7.82246865e-01, -1.43429551e-01],\n",
       "        [-4.05500206e-01, -5.09808939e-01],\n",
       "        [-7.06897534e-01, -5.06688353e-01],\n",
       "        [-4.05500206e-01, -3.76158032e-01],\n",
       "        [ 8.00089104e-01, -4.77850259e-01],\n",
       "        [ 1.21945117e-01,  4.83925484e-01],\n",
       "        [-5.56198870e-01, -5.22878161e-01],\n",
       "        [ 4.23342445e-01, -1.43429551e-01],\n",
       "        [-1.04102879e-01, -1.76873645e-03],\n",
       "        [-4.05500206e-01,  7.37903087e-01],\n",
       "        [-7.82246865e-01, -4.06513920e-01],\n",
       "        [-6.64282126e-02, -3.43778417e-01],\n",
       "        [-2.54801542e-01,  9.26109598e-01],\n",
       "        [-1.68643885e+00,  1.33567934e-01],\n",
       "        [ 1.17683576e+00, -3.96395291e-01],\n",
       "        [-1.53574018e+00, -3.47825869e-01],\n",
       "        [-2.87535466e-02, -5.06688353e-01],\n",
       "        [-4.05500206e-01, -5.23299096e-01],\n",
       "        [ 2.60847307e+00,  4.65280088e+00],\n",
       "        [ 8.00089104e-01, -4.06513920e-01],\n",
       "        [ 4.65957852e-02, -5.06688353e-01],\n",
       "        [-4.05500206e-01, -3.43778417e-01],\n",
       "        [ 1.21451043e+00, -5.23384092e-01],\n",
       "        [-6.31548202e-01, -5.09218011e-01],\n",
       "        [-4.80849538e-01, -4.82909574e-01],\n",
       "        [ 1.62893175e+00,  9.08064034e-01],\n",
       "        [ 2.72643781e-01, -4.94461001e-01],\n",
       "        [ 1.25218510e+00,  5.68416041e-01],\n",
       "        [-1.08364419e+00, -5.23299096e-01],\n",
       "        [-2.54801542e-01, -5.06688353e-01],\n",
       "        [-1.38504152e+00,  1.75887281e+00],\n",
       "        [-4.05500206e-01, -5.12759531e-01],\n",
       "        [ 5.74041108e-01,  3.82739188e-01],\n",
       "        [-5.56198870e-01, -4.56769106e-01],\n",
       "        [-2.54801542e-01,  4.73721858e-01],\n",
       "        [ 9.50787768e-01, -4.06513920e-01],\n",
       "        [-4.05500206e-01, -2.65527007e-01],\n",
       "        [ 1.85497975e+00, -2.04141328e-01],\n",
       "        [-1.38504152e+00, -3.66780086e-02],\n",
       "        [-6.31548202e-01, -5.11832665e-01],\n",
       "        [-3.30150874e-01, -1.43429551e-01],\n",
       "        [ 5.74041108e-01, -4.22432548e-02],\n",
       "        [ 4.65957852e-02, -1.08014347e-01],\n",
       "        [ 4.98691776e-01, -1.35587613e-01],\n",
       "        [-4.05500206e-01, -5.09808939e-01],\n",
       "        [ 2.34969115e-01, -6.10477161e-02],\n",
       "        [-4.05500206e-01, -5.11156740e-01],\n",
       "        [ 4.23342445e-01, -1.37611339e-01],\n",
       "        [-2.54801542e-01, -2.53216682e-01],\n",
       "        [-4.05500206e-01, -5.12759531e-01],\n",
       "        [ 8.75438436e-01, -3.84084966e-01],\n",
       "        [ 6.49390440e-01,  3.93488411e+00],\n",
       "        [-4.05500206e-01, -2.90149680e-01],\n",
       "        [-5.56198870e-01, -5.12759531e-01],\n",
       "        [-4.05500206e-01, -5.12759531e-01],\n",
       "        [-3.30150874e-01, -5.12253600e-01],\n",
       "        [ 1.70428109e+00, -5.23618844e-02],\n",
       "        [-4.80849538e-01, -3.90492082e-01],\n",
       "        [ 4.23342445e-01, -5.06688353e-01],\n",
       "        [ 3.47993113e-01, -5.06688353e-01],\n",
       "        [ 5.74041108e-01, -5.09218011e-01],\n",
       "        [ 2.53312374e+00,  9.08064034e-01],\n",
       "        [-4.05500206e-01, -5.23384092e-01],\n",
       "        [-1.38504152e+00, -2.89390783e-01],\n",
       "        [ 1.97294449e-01, -3.55920772e-01],\n",
       "        [-1.98783618e+00,  1.71850758e-01],\n",
       "        [ 1.10148643e+00,  5.03741808e-01],\n",
       "        [-6.31548202e-01,  2.60574949e-02],\n",
       "        [ 1.62893175e+00, -4.16126618e-01],\n",
       "        [ 5.74041108e-01, -6.85516918e-02],\n",
       "        [ 1.40288376e+00,  1.31797174e-01],\n",
       "        [-2.87535466e-02,  6.78203172e-01],\n",
       "        [-4.05500206e-01, -4.06513920e-01],\n",
       "        [ 1.32753443e+00, -3.76158032e-01],\n",
       "        [ 5.36366442e-01, -1.43429551e-01],\n",
       "        [-1.61108952e+00, -1.38370236e-01],\n",
       "        [-4.05500206e-01, -3.43778417e-01],\n",
       "        [ 9.50787768e-01, -1.43429551e-01],\n",
       "        [-7.82246865e-01, -5.09808939e-01],\n",
       "        [-2.87535466e-02, -3.65027539e-01],\n",
       "        [-7.06897534e-01, -3.51029427e-01],\n",
       "        [ 3.13591839e+00,  3.17077377e-02],\n",
       "        [-2.13853484e+00,  2.79529166e-01],\n",
       "        [-4.05500206e-01, -5.22878161e-01],\n",
       "        [-2.13853484e+00, -2.53216682e-01],\n",
       "        [ 4.98691776e-01,  1.75887281e+00],\n",
       "        [-7.82246865e-01, -4.57107068e-01],\n",
       "        [ 1.85497975e+00,  9.14305204e-01],\n",
       "        [-2.87535466e-02, -1.76873645e-03],\n",
       "        [-6.31548202e-01, -5.12253600e-01],\n",
       "        [-4.80849538e-01,  1.62277725e+00],\n",
       "        [-3.30150874e-01, -5.12253600e-01],\n",
       "        [ 8.42704512e-02, -5.06688353e-01],\n",
       "        [ 1.21945117e-01,  3.52298303e-01],\n",
       "        [-2.54801542e-01, -5.09218011e-01],\n",
       "        [-4.05500206e-01, -4.90498546e-01],\n",
       "        [-4.05500206e-01, -5.12759531e-01],\n",
       "        [-5.56198870e-01, -5.12253600e-01],\n",
       "        [-1.79452210e-01, -4.17138481e-01],\n",
       "        [-1.15899352e+00,  1.33567934e-01],\n",
       "        [-2.87535466e-02, -1.08605275e-01],\n",
       "        [ 4.65957852e-02,  4.82492686e-01],\n",
       "        [ 1.17683576e+00, -1.04978758e-01],\n",
       "        [ 5.74041108e-01, -1.32299058e-01],\n",
       "        [ 2.72643781e-01, -5.09808939e-01],\n",
       "        [-2.87535466e-02, -1.43429551e-01],\n",
       "        [ 5.74041108e-01,  9.33192638e-01],\n",
       "        [-2.14456279e+00,  2.39735834e+00],\n",
       "        [-4.05500206e-01, -4.57107068e-01],\n",
       "        [-6.64282126e-02, -5.23299096e-01],\n",
       "        [-4.05500206e-01,  6.45823558e-01],\n",
       "        [-4.05500206e-01,  4.33954430e+00],\n",
       "        [-5.56198870e-01, -4.87462957e-01],\n",
       "        [-4.05500206e-01, -2.65527007e-01],\n",
       "        [-1.53574018e+00,  2.79529166e-01],\n",
       "        [ 3.47993113e-01, -4.06513920e-01],\n",
       "        [-6.31548202e-01, -4.36869809e-01],\n",
       "        [ 2.72643781e-01, -4.21185933e-01],\n",
       "        [ 1.97294449e-01, -1.43429551e-01],\n",
       "        [ 5.74041108e-01, -1.44947345e-01],\n",
       "        [ 4.23342445e-01, -2.59793791e-01],\n",
       "        [ 7.24739772e-01, -6.69598290e-01],\n",
       "        [-5.56198870e-01, -5.06688353e-01],\n",
       "        [ 8.37763770e-01, -3.76158032e-01],\n",
       "        [ 1.93032908e+00, -3.45802143e-01],\n",
       "        [ 4.65957852e-02, -3.43778417e-01],\n",
       "        [-1.46039085e+00, -1.04978758e-01],\n",
       "        [-4.05500206e-01, -1.23192292e-01],\n",
       "        [-4.80849538e-01, -5.10650809e-01],\n",
       "        [-7.06897534e-01, -5.26925613e-01],\n",
       "        [-4.05500206e-01, -4.77344328e-01],\n",
       "        [ 2.45777441e+00, -1.32299058e-01],\n",
       "        [-7.06897534e-01, -5.09218011e-01],\n",
       "        [-1.04102879e-01, -5.09218011e-01],\n",
       "        [-4.05500206e-01, -3.61065084e-01],\n",
       "        [ 1.55358242e+00,  2.03511140e+00],\n",
       "        [ 4.98691776e-01, -6.69598290e-01],\n",
       "        [ 4.98691776e-01,  1.75887281e+00],\n",
       "        [ 1.62893175e+00, -5.06688353e-01],\n",
       "        [-1.00829486e+00, -5.06688353e-01],\n",
       "        [ 5.74041108e-01, -6.24805140e-02],\n",
       "        [ 1.96800375e+00, -5.06688353e-01],\n",
       "        [ 1.21945117e-01,  1.62277725e+00],\n",
       "        [ 2.15637708e+00, -1.32299058e-01],\n",
       "        [-1.98783618e+00, -3.47825869e-01],\n",
       "        [ 2.00567841e+00,  4.88244115e-02],\n",
       "        [-4.05500206e-01, -5.12759531e-01],\n",
       "        [ 3.36196639e+00, -5.12253600e-01],\n",
       "        [-4.05500206e-01,  7.37903087e-01],\n",
       "        [ 4.98691776e-01, -4.57107068e-01],\n",
       "        [ 9.50787768e-01,  3.82739188e-01],\n",
       "        [ 1.97294449e-01,  4.73721858e-01],\n",
       "        [-4.05500206e-01, -5.10144877e-01],\n",
       "        [ 4.98691776e-01, -4.06513920e-01],\n",
       "        [ 1.62893175e+00, -5.12759531e-01],\n",
       "        [-5.56198870e-01, -5.25407818e-01],\n",
       "        [-4.05500206e-01, -5.06688353e-01],\n",
       "        [-5.56198870e-01,  6.78203172e-01],\n",
       "        [-1.83713751e+00, -1.08014347e-01],\n",
       "        [ 2.72643781e-01, -4.94293032e-01],\n",
       "        [-4.05500206e-01, -5.12759531e-01],\n",
       "        [-4.05500206e-01,  7.37903087e-01],\n",
       "        [ 3.47993113e-01, -1.18873661e-02],\n",
       "        [-2.54801542e-01, -2.89390783e-01],\n",
       "        [-4.05500206e-01, -5.12759531e-01],\n",
       "        [-7.06897534e-01, -5.10650809e-01],\n",
       "        [ 1.40288376e+00, -4.06513920e-01],\n",
       "        [-1.04102879e-01, -5.09808939e-01],\n",
       "        [-3.30150874e-01,  4.52389763e-01],\n",
       "        [-8.57596197e-01, -3.05327624e-01],\n",
       "        [-4.80849538e-01, -5.09808939e-01],\n",
       "        [ 2.68382240e+00, -1.32299058e-01],\n",
       "        [-9.32945529e-01, -4.94293032e-01],\n",
       "        [-1.79452210e-01,  8.83190418e-01],\n",
       "        [-9.32945529e-01, -4.57107068e-01],\n",
       "        [ 2.15637708e+00,  2.43606210e+00],\n",
       "        [-3.30150874e-01, -5.26925613e-01],\n",
       "        [ 1.47823309e+00, -1.44862349e-01],\n",
       "        [-7.82246865e-01, -5.06688353e-01],\n",
       "        [ 3.13591839e+00,  3.32231037e-01],\n",
       "        [-1.79452210e-01, -5.09808939e-01],\n",
       "        [-4.05500206e-01, -5.06688353e-01],\n",
       "        [-3.67825540e-01, -5.06688353e-01],\n",
       "        [-1.61108952e+00, -8.01881158e-02],\n",
       "        [-4.05500206e-01, -5.12759531e-01],\n",
       "        [-2.54801542e-01, -5.12253600e-01],\n",
       "        [-4.05500206e-01, -5.09808939e-01],\n",
       "        [-1.04102879e-01, -3.96395291e-01],\n",
       "        [ 6.49390440e-01, -5.26925613e-01],\n",
       "        [ 2.60847307e+00, -1.43429551e-01],\n",
       "        [ 7.24739772e-01, -3.66780086e-02],\n",
       "        [ 1.17683576e+00, -1.32299058e-01],\n",
       "        [-2.15134423e+00, -2.90149680e-01],\n",
       "        [-4.05500206e-01,  4.65280088e+00],\n",
       "        [ 4.65957852e-02, -5.22878161e-01],\n",
       "        [-1.83713751e+00, -3.44013169e-02],\n",
       "        [ 2.00567841e+00,  1.01329778e+00],\n",
       "        [-2.87535466e-02, -5.12759531e-01],\n",
       "        [ 4.65957852e-02, -5.23384092e-01],\n",
       "        [-4.43174872e-01, -5.23299096e-01],\n",
       "        [ 8.00089104e-01,  2.43606210e+00],\n",
       "        [ 7.24739772e-01, -1.80868480e-01],\n",
       "        [ 1.97294449e-01, -3.48837732e-01],\n",
       "        [-4.80849538e-01, -5.09218011e-01],\n",
       "        [-4.05500206e-01, -5.09808939e-01],\n",
       "        [ 1.47823309e+00,  1.57437579e+00],\n",
       "        [ 1.21945117e-01, -1.38370236e-01],\n",
       "        [-1.53574018e+00, -3.66780086e-02],\n",
       "        [-6.31548202e-01,  9.08064034e-01],\n",
       "        [ 1.47823309e+00,  8.83190418e-01],\n",
       "        [ 5.74041108e-01,  3.87057819e-02],\n",
       "        [ 2.72643781e-01, -2.54228545e-01],\n",
       "        [-2.87535466e-02, -2.44615847e-01],\n",
       "        [-4.05500206e-01, -5.06688353e-01],\n",
       "        [ 2.72643781e-01, -1.43429551e-01],\n",
       "        [ 1.97294449e-01, -5.06688353e-01],\n",
       "        [-6.31548202e-01, -3.43778417e-01],\n",
       "        [ 1.02613710e+00,  2.79529166e-01],\n",
       "        [ 4.65957852e-02, -5.23299096e-01],\n",
       "        [-7.82246865e-01, -5.32996790e-01],\n",
       "        [ 4.23342445e-01,  2.07524796e+00],\n",
       "        [-4.05500206e-01, -5.26925613e-01],\n",
       "        [ 1.85497975e+00,  5.32494906e-01],\n",
       "        [-4.05500206e-01, -5.09808939e-01],\n",
       "        [-7.82246865e-01, -4.57107068e-01],\n",
       "        [-8.57596197e-01, -5.11832665e-01],\n",
       "        [-7.82246865e-01, -6.69598290e-01],\n",
       "        [ 8.00089104e-01,  2.05231307e+00],\n",
       "        [ 2.38242507e+00, -5.43368386e-01],\n",
       "        [ 5.74041108e-01,  3.81860486e+00],\n",
       "        [-2.87535466e-02, -5.12253600e-01],\n",
       "        [-4.05500206e-01, -3.61065084e-01],\n",
       "        [ 4.23342445e-01,  9.69854052e+00],\n",
       "        [-4.05500206e-01, -5.23299096e-01],\n",
       "        [ 1.10148643e+00, -3.43778417e-01],\n",
       "        [ 1.97294449e-01, -5.09218011e-01],\n",
       "        [-4.05500206e-01, -5.06688353e-01],\n",
       "        [ 2.30707574e+00,  1.19654819e-01],\n",
       "        [ 1.97294449e-01,  8.74336617e-01],\n",
       "        [-4.05500206e-01, -5.06688353e-01],\n",
       "        [-4.05500206e-01, -5.12759531e-01],\n",
       "        [ 3.47993113e-01, -3.78181757e-01],\n",
       "        [-1.53574018e+00, -3.44013169e-02],\n",
       "        [ 8.75438436e-01, -2.74971736e-01],\n",
       "        [ 1.47823309e+00,  4.82492686e-01],\n",
       "        [ 7.24739772e-01, -3.66780086e-02],\n",
       "        [-7.06897534e-01, -5.23299096e-01],\n",
       "        [ 1.10148643e+00, -5.06688353e-01],\n",
       "        [-4.05500206e-01, -5.13180466e-01],\n",
       "        [ 2.72643781e-01,  4.05000173e-01],\n",
       "        [-4.05500206e-01, -5.12759531e-01],\n",
       "        [ 2.72643781e-01, -4.77344328e-01],\n",
       "        [ 1.02613710e+00,  3.60729348e+00],\n",
       "        [-1.00829486e+00, -5.12759531e-01],\n",
       "        [ 1.32753443e+00, -1.51777420e-01],\n",
       "        [ 6.49390440e-01, -4.94293032e-01],\n",
       "        [ 1.97294449e-01, -5.12759531e-01],\n",
       "        [-7.06897534e-01, -5.10650809e-01],\n",
       "        [-2.06318551e+00, -1.04978758e-01],\n",
       "        [ 9.50787768e-01, -5.14783257e-01],\n",
       "        [ 1.17683576e+00,  1.01970692e+00],\n",
       "        [-3.30150874e-01, -1.43429551e-01],\n",
       "        [ 3.47993113e-01, -5.38141102e-01],\n",
       "        [-2.87535466e-02, -6.69598290e-01],\n",
       "        [-8.57596197e-01, -5.12759531e-01],\n",
       "        [ 3.47993113e-01, -1.43429551e-01],\n",
       "        [ 1.70428109e+00,  9.14305204e-01],\n",
       "        [ 1.40288376e+00,  8.83190418e-01],\n",
       "        [-4.05500206e-01, -5.12759531e-01],\n",
       "        [-8.57596197e-01, -4.36869809e-01],\n",
       "        [-8.57596197e-01,  4.64015259e+00],\n",
       "        [-4.05500206e-01,  7.37903087e-01],\n",
       "        [-2.54801542e-01, -3.43778417e-01],\n",
       "        [-7.06897534e-01, -4.94293032e-01],\n",
       "        [-1.04102879e-01, -5.11832665e-01],\n",
       "        [ 3.47993113e-01, -4.06513920e-01],\n",
       "        [-8.57596197e-01, -5.12253600e-01],\n",
       "        [-2.54801542e-01, -5.09808939e-01],\n",
       "        [-4.05500206e-01, -5.23384092e-01],\n",
       "        [ 1.97294449e-01,  4.73721858e-01],\n",
       "        [ 2.00567841e+00, -1.32299058e-01],\n",
       "        [-8.57596197e-01,  1.53423924e+00],\n",
       "        [-1.83713751e+00, -4.17138481e-01],\n",
       "        [-4.05500206e-01,  7.37903087e-01],\n",
       "        [-8.57596197e-01, -5.32996790e-01],\n",
       "        [ 1.17683576e+00, -1.32299058e-01],\n",
       "        [-2.87535466e-02, -3.89059284e-01],\n",
       "        [-3.30150874e-01, -4.06513920e-01],\n",
       "        [-7.82246865e-01, -5.12253600e-01],\n",
       "        [-4.05500206e-01, -5.09808939e-01],\n",
       "        [-7.06897534e-01, -4.94293032e-01],\n",
       "        [ 9.50787768e-01,  3.93488411e+00],\n",
       "        [-4.05500206e-01, -5.06688353e-01],\n",
       "        [-1.61108952e+00, -2.43098052e-01],\n",
       "        [-4.05500206e-01, -1.54222081e-01],\n",
       "        [-1.98783618e+00, -2.43098052e-01],\n",
       "        [-3.30150874e-01, -5.12927500e-01],\n",
       "        [ 7.24739772e-01,  9.42299405e-01],\n",
       "        [ 1.47823309e+00,  1.13362650e+00],\n",
       "        [-1.04102879e-01, -4.06513920e-01],\n",
       "        [-7.82246865e-01, -5.10650809e-01],\n",
       "        [ 1.70428109e+00, -4.06513920e-01],\n",
       "        [-1.08364419e+00, -3.77084898e-01],\n",
       "        [-1.04102879e-01,  9.93313488e-01],\n",
       "        [-4.05500206e-01, -5.11832665e-01],\n",
       "        [ 1.55358242e+00,  4.61664499e-01],\n",
       "        [-1.79452210e-01, -1.43429551e-01],\n",
       "        [-4.05500206e-01,  8.17840261e-01],\n",
       "        [ 4.98691776e-01, -1.08014347e-01],\n",
       "        [ 4.65957852e-02, -1.80868480e-01],\n",
       "        [ 1.97294449e-01, -5.09808939e-01],\n",
       "        [-8.57596197e-01, -5.17903842e-01],\n",
       "        [ 9.50787768e-01, -4.06513920e-01],\n",
       "        [ 2.08102775e+00, -4.57107068e-01],\n",
       "        [-5.56198870e-01, -5.22878161e-01],\n",
       "        [-7.82246865e-01, -5.09808939e-01],\n",
       "        [-2.87535466e-02, -5.10229874e-01],\n",
       "        [-1.30969219e+00, -4.42097093e-01],\n",
       "        [ 3.47993113e-01, -5.06688353e-01],\n",
       "        [-4.05500206e-01, -5.23299096e-01],\n",
       "        [ 8.37763770e-01, -5.12759531e-01],\n",
       "        [-4.05500206e-01, -2.17127578e-01],\n",
       "        [-4.05500206e-01, -5.10144877e-01],\n",
       "        [ 1.55358242e+00, -1.43429551e-01],\n",
       "        [ 1.55358242e+00, -8.85359852e-02],\n",
       "        [ 1.32753443e+00, -4.87462957e-01],\n",
       "        [-4.05500206e-01,  4.73721858e-01],\n",
       "        [ 1.10148643e+00, -1.08605275e-01],\n",
       "        [-1.00829486e+00,  5.03741808e-01],\n",
       "        [-4.05500206e-01, -1.99082014e-01],\n",
       "        [ 1.97294449e-01, -5.23618844e-02],\n",
       "        [-1.91248684e+00, -3.66780086e-02],\n",
       "        [-4.05500206e-01, -5.09808939e-01],\n",
       "        [ 4.98691776e-01,  2.07524796e+00],\n",
       "        [-2.54801542e-01, -4.94293032e-01],\n",
       "        [-8.57596197e-01, -5.01629039e-01],\n",
       "        [ 4.98691776e-01, -1.37611339e-01],\n",
       "        [ 7.24739772e-01, -5.09218011e-01],\n",
       "        [ 7.24739772e-01, -4.06513920e-01],\n",
       "        [ 2.72643781e-01, -5.68411994e-01],\n",
       "        [-7.06897534e-01, -4.70767218e-01],\n",
       "        [ 1.40288376e+00, -1.44862349e-01],\n",
       "        [ 6.49390440e-01, -5.09808939e-01],\n",
       "        [-8.57596197e-01, -5.06688353e-01],\n",
       "        [-4.05500206e-01, -4.77344328e-01],\n",
       "        [-1.15899352e+00, -5.10650809e-01],\n",
       "        [ 5.74041108e-01, -5.23618844e-02],\n",
       "        [-8.57596197e-01,  8.17840261e-01],\n",
       "        [-4.05500206e-01, -3.55920772e-01],\n",
       "        [ 1.21945117e-01, -5.12759531e-01],\n",
       "        [-1.79452210e-01, -4.44290812e-01],\n",
       "        [ 1.55358242e+00, -4.57107068e-01],\n",
       "        [-4.05500206e-01, -1.95034562e-01],\n",
       "        [-1.00829486e+00, -5.12253600e-01],\n",
       "        [-1.79452210e-01, -4.06513920e-01],\n",
       "        [ 1.17683576e+00, -1.38370236e-01],\n",
       "        [ 4.98691776e-01, -4.06513920e-01],\n",
       "        [-4.05500206e-01, -3.55920772e-01],\n",
       "        [ 2.34969115e-01, -4.06513920e-01],\n",
       "        [-4.05500206e-01, -3.64015676e-01],\n",
       "        [-3.30150874e-01, -6.24805140e-02],\n",
       "        [-6.31548202e-01, -4.57107068e-01],\n",
       "        [-4.05500206e-01, -1.95034562e-01],\n",
       "        [ 1.17683576e+00, -5.06688353e-01],\n",
       "        [-5.56198870e-01, -5.06688353e-01],\n",
       "        [ 9.50787768e-01,  3.93954677e-01],\n",
       "        [-1.76178818e+00, -3.66780086e-02],\n",
       "        [-5.56198870e-01, -8.27177732e-02],\n",
       "        [-4.05500206e-01, -1.80868480e-01],\n",
       "        [-1.76178818e+00, -4.17138481e-01],\n",
       "        [-4.05500206e-01, -5.12759531e-01],\n",
       "        [ 4.65957852e-02, -4.06513920e-01],\n",
       "        [-6.31548202e-01,  8.17840261e-01],\n",
       "        [-4.05500206e-01, -5.09808939e-01],\n",
       "        [-5.56198870e-01,  2.07524796e+00],\n",
       "        [ 1.40288376e+00,  6.45823558e-01],\n",
       "        [ 1.02613710e+00, -5.39067968e-01],\n",
       "        [-1.76178818e+00, -1.76873645e-03],\n",
       "        [ 9.50787768e-01, -1.23192292e-01],\n",
       "        [-1.15899352e+00, -6.10477161e-02],\n",
       "        [-1.79452210e-01,  3.61058203e+00],\n",
       "        [-1.91248684e+00, -3.98081054e-01],\n",
       "        [ 5.74041108e-01,  2.03511140e+00],\n",
       "        [-7.82246865e-01, -5.06688353e-01],\n",
       "        [ 8.00089104e-01, -3.55920772e-01],\n",
       "        [-4.05500206e-01,  7.32843772e-01],\n",
       "        [ 2.53312374e+00, -4.75573567e-01],\n",
       "        [-2.87535466e-02, -4.06513920e-01],\n",
       "        [ 3.06056906e+00, -4.57107068e-01],\n",
       "        [ 8.42704512e-02, -5.12759531e-01],\n",
       "        [-4.05500206e-01, -5.05423525e-01],\n",
       "        [-1.08364419e+00, -5.07109288e-01],\n",
       "        [ 5.74041108e-01, -6.85516918e-02],\n",
       "        [ 9.50787768e-01, -4.94293032e-01],\n",
       "        [ 5.74041108e-01,  3.93488411e+00],\n",
       "        [-2.87535466e-02, -6.69598290e-01],\n",
       "        [ 1.21945117e-01, -4.06513920e-01],\n",
       "        [-7.06897534e-01, -4.77344328e-01],\n",
       "        [-6.31548202e-01, -5.11747668e-01],\n",
       "        [ 1.10148643e+00, -5.06688353e-01],\n",
       "        [-1.79452210e-01, -2.44615847e-01],\n",
       "        [-5.56198870e-01,  1.71850758e-01],\n",
       "        [-1.08364419e+00, -5.23384092e-01],\n",
       "        [-1.61108952e+00,  7.41209855e-02],\n",
       "        [ 1.21945117e-01,  2.66685185e+00],\n",
       "        [ 6.49390440e-01,  1.15175504e+00],\n",
       "        [ 1.32753443e+00,  3.93954677e-01],\n",
       "        [-3.30150874e-01, -3.09375076e-01],\n",
       "        [ 1.85497975e+00,  3.79956565e-01],\n",
       "        [-4.05500206e-01, -5.09808939e-01],\n",
       "        [-1.79452210e-01, -3.89144281e-01],\n",
       "        [ 8.75438436e-01,  1.33567934e-01],\n",
       "        [-4.05500206e-01, -5.23299096e-01]]),\n",
       " '_tree': <sklearn.neighbors.kd_tree.KDTree at 0x7f82d8723418>}"
      ]
     },
     "execution_count": 58,
     "metadata": {},
     "output_type": "execute_result"
    }
   ],
   "source": [
    "knn.fit(X_t_s, y_t)\n",
    "knn.__dict__"
   ]
  },
  {
   "cell_type": "markdown",
   "metadata": {},
   "source": [
    "What do you notice? No coefficients! In linear and logistic regression, fitting the model involves calculation of parameters associated with a best fit hyperplane.\n",
    "\n",
    "KNN does not use such a process.  It simply calculates the distance from each point, and votes."
   ]
  },
  {
   "cell_type": "markdown",
   "metadata": {},
   "source": [
    "# Descriminative\n",
    "\n",
    "### Example training data\n",
    "\n",
    "This example uses a multi-class problem and each color represents a different class. \n"
   ]
  },
  {
   "cell_type": "markdown",
   "metadata": {},
   "source": [
    "### KNN classification map (K=1)\n",
    "\n",
    "![1NN classification map](img/04_1nn_map.png)"
   ]
  },
  {
   "cell_type": "markdown",
   "metadata": {},
   "source": [
    "### KNN classification map (K=5)\n",
    "\n",
    "![5NN classification map](img/04_5nn_map.png)"
   ]
  },
  {
   "cell_type": "markdown",
   "metadata": {},
   "source": [
    "## What are those white spaces?\n",
    "\n",
    "Those are spaces where ties occur.  \n",
    "\n",
    "How can we deal with ties?  \n",
    "  - for binary classes  \n",
    "      - choose an odd number for k\n",
    "        \n",
    "  - for multiclass  \n",
    "      - Reduce the K by 1 to see who wins.  \n",
    "      - Weight the votes based on the distance of the neighbors  "
   ]
  },
  {
   "cell_type": "markdown",
   "metadata": {},
   "source": [
    "# Lazy-Learning\n",
    "![lazy](https://media.giphy.com/media/QSzIZKD16bNeM/giphy.gif)\n",
    "\n",
    "Lazy-learning has also to do with KNN's training, or better yet, lack of a training step.  Whereas models like linear and logistic fit onto training data, doing the hard work of calculating paramaters when .fit is called, the training phase of KNN is simply storing the training data in memory.  The training step of KNN takes no time at all. All the work is done in the prediction phase, where the distances are calculated. Prediction is therefore memory intensive, and can take a long time.    KNN is lazy because it puts off the work until a later time than most algos.\n"
   ]
  },
  {
   "cell_type": "markdown",
   "metadata": {},
   "source": [
    "# Pair \n",
    "\n",
    "Use the timeit function to compare the time of fitting and predicting in Logistic vs KNN"
   ]
  },
  {
   "cell_type": "markdown",
   "metadata": {},
   "source": [
    "Time it example"
   ]
  },
  {
   "cell_type": "code",
   "execution_count": 59,
   "metadata": {
    "collapsed": true,
    "jupyter": {
     "outputs_hidden": true
    }
   },
   "outputs": [
    {
     "ename": "LookupError",
     "evalue": "\n**********************************************************************\n  Resource \u001b[93mgutenberg\u001b[0m not found.\n  Please use the NLTK Downloader to obtain the resource:\n\n  \u001b[31m>>> import nltk\n  >>> nltk.download('gutenberg')\n  \u001b[0m\n  For more information see: https://www.nltk.org/data.html\n\n  Attempted to load \u001b[93mcorpora/gutenberg\u001b[0m\n\n  Searched in:\n    - '/Users/LeanaCritchell/nltk_data'\n    - '/opt/anaconda3/envs/learn-env/nltk_data'\n    - '/opt/anaconda3/envs/learn-env/share/nltk_data'\n    - '/opt/anaconda3/envs/learn-env/lib/nltk_data'\n    - '/usr/share/nltk_data'\n    - '/usr/local/share/nltk_data'\n    - '/usr/lib/nltk_data'\n    - '/usr/local/lib/nltk_data'\n**********************************************************************\n",
     "output_type": "error",
     "traceback": [
      "\u001b[0;31m---------------------------------------------------------------------------\u001b[0m",
      "\u001b[0;31mLookupError\u001b[0m                               Traceback (most recent call last)",
      "\u001b[0;32m/opt/anaconda3/envs/learn-env/lib/python3.6/site-packages/nltk/corpus/util.py\u001b[0m in \u001b[0;36m__load\u001b[0;34m(self)\u001b[0m\n\u001b[1;32m     85\u001b[0m                 \u001b[0;32mtry\u001b[0m\u001b[0;34m:\u001b[0m\u001b[0;34m\u001b[0m\u001b[0;34m\u001b[0m\u001b[0m\n\u001b[0;32m---> 86\u001b[0;31m                     \u001b[0mroot\u001b[0m \u001b[0;34m=\u001b[0m \u001b[0mnltk\u001b[0m\u001b[0;34m.\u001b[0m\u001b[0mdata\u001b[0m\u001b[0;34m.\u001b[0m\u001b[0mfind\u001b[0m\u001b[0;34m(\u001b[0m\u001b[0;34m'{}/{}'\u001b[0m\u001b[0;34m.\u001b[0m\u001b[0mformat\u001b[0m\u001b[0;34m(\u001b[0m\u001b[0mself\u001b[0m\u001b[0;34m.\u001b[0m\u001b[0msubdir\u001b[0m\u001b[0;34m,\u001b[0m \u001b[0mzip_name\u001b[0m\u001b[0;34m)\u001b[0m\u001b[0;34m)\u001b[0m\u001b[0;34m\u001b[0m\u001b[0;34m\u001b[0m\u001b[0m\n\u001b[0m\u001b[1;32m     87\u001b[0m                 \u001b[0;32mexcept\u001b[0m \u001b[0mLookupError\u001b[0m\u001b[0;34m:\u001b[0m\u001b[0;34m\u001b[0m\u001b[0;34m\u001b[0m\u001b[0m\n",
      "\u001b[0;32m/opt/anaconda3/envs/learn-env/lib/python3.6/site-packages/nltk/data.py\u001b[0m in \u001b[0;36mfind\u001b[0;34m(resource_name, paths)\u001b[0m\n\u001b[1;32m    700\u001b[0m     \u001b[0mresource_not_found\u001b[0m \u001b[0;34m=\u001b[0m \u001b[0;34m'\\n%s\\n%s\\n%s\\n'\u001b[0m \u001b[0;34m%\u001b[0m \u001b[0;34m(\u001b[0m\u001b[0msep\u001b[0m\u001b[0;34m,\u001b[0m \u001b[0mmsg\u001b[0m\u001b[0;34m,\u001b[0m \u001b[0msep\u001b[0m\u001b[0;34m)\u001b[0m\u001b[0;34m\u001b[0m\u001b[0;34m\u001b[0m\u001b[0m\n\u001b[0;32m--> 701\u001b[0;31m     \u001b[0;32mraise\u001b[0m \u001b[0mLookupError\u001b[0m\u001b[0;34m(\u001b[0m\u001b[0mresource_not_found\u001b[0m\u001b[0;34m)\u001b[0m\u001b[0;34m\u001b[0m\u001b[0;34m\u001b[0m\u001b[0m\n\u001b[0m\u001b[1;32m    702\u001b[0m \u001b[0;34m\u001b[0m\u001b[0m\n",
      "\u001b[0;31mLookupError\u001b[0m: \n**********************************************************************\n  Resource \u001b[93mgutenberg\u001b[0m not found.\n  Please use the NLTK Downloader to obtain the resource:\n\n  \u001b[31m>>> import nltk\n  >>> nltk.download('gutenberg')\n  \u001b[0m\n  For more information see: https://www.nltk.org/data.html\n\n  Attempted to load \u001b[93mcorpora/gutenberg.zip/gutenberg/\u001b[0m\n\n  Searched in:\n    - '/Users/LeanaCritchell/nltk_data'\n    - '/opt/anaconda3/envs/learn-env/nltk_data'\n    - '/opt/anaconda3/envs/learn-env/share/nltk_data'\n    - '/opt/anaconda3/envs/learn-env/lib/nltk_data'\n    - '/usr/share/nltk_data'\n    - '/usr/local/share/nltk_data'\n    - '/usr/lib/nltk_data'\n    - '/usr/local/lib/nltk_data'\n**********************************************************************\n",
      "\nDuring handling of the above exception, another exception occurred:\n",
      "\u001b[0;31mLookupError\u001b[0m                               Traceback (most recent call last)",
      "\u001b[0;32m<ipython-input-59-3b4301b85b86>\u001b[0m in \u001b[0;36m<module>\u001b[0;34m\u001b[0m\n\u001b[0;32m----> 1\u001b[0;31m \u001b[0mget_ipython\u001b[0m\u001b[0;34m(\u001b[0m\u001b[0;34m)\u001b[0m\u001b[0;34m.\u001b[0m\u001b[0mrun_cell_magic\u001b[0m\u001b[0;34m(\u001b[0m\u001b[0;34m'timeit'\u001b[0m\u001b[0;34m,\u001b[0m \u001b[0;34m''\u001b[0m\u001b[0;34m,\u001b[0m \u001b[0;34m\"import nltk \\nemma = nltk.corpus.gutenberg.words('austen-emma.txt')\\n\\nnewlist = []\\nfor word in emma:\\n    newlist.append(word.upper())\\n\"\u001b[0m\u001b[0;34m)\u001b[0m\u001b[0;34m\u001b[0m\u001b[0;34m\u001b[0m\u001b[0m\n\u001b[0m",
      "\u001b[0;32m/opt/anaconda3/envs/learn-env/lib/python3.6/site-packages/IPython/core/interactiveshell.py\u001b[0m in \u001b[0;36mrun_cell_magic\u001b[0;34m(self, magic_name, line, cell)\u001b[0m\n\u001b[1;32m   2357\u001b[0m             \u001b[0;32mwith\u001b[0m \u001b[0mself\u001b[0m\u001b[0;34m.\u001b[0m\u001b[0mbuiltin_trap\u001b[0m\u001b[0;34m:\u001b[0m\u001b[0;34m\u001b[0m\u001b[0;34m\u001b[0m\u001b[0m\n\u001b[1;32m   2358\u001b[0m                 \u001b[0margs\u001b[0m \u001b[0;34m=\u001b[0m \u001b[0;34m(\u001b[0m\u001b[0mmagic_arg_s\u001b[0m\u001b[0;34m,\u001b[0m \u001b[0mcell\u001b[0m\u001b[0;34m)\u001b[0m\u001b[0;34m\u001b[0m\u001b[0;34m\u001b[0m\u001b[0m\n\u001b[0;32m-> 2359\u001b[0;31m                 \u001b[0mresult\u001b[0m \u001b[0;34m=\u001b[0m \u001b[0mfn\u001b[0m\u001b[0;34m(\u001b[0m\u001b[0;34m*\u001b[0m\u001b[0margs\u001b[0m\u001b[0;34m,\u001b[0m \u001b[0;34m**\u001b[0m\u001b[0mkwargs\u001b[0m\u001b[0;34m)\u001b[0m\u001b[0;34m\u001b[0m\u001b[0;34m\u001b[0m\u001b[0m\n\u001b[0m\u001b[1;32m   2360\u001b[0m             \u001b[0;32mreturn\u001b[0m \u001b[0mresult\u001b[0m\u001b[0;34m\u001b[0m\u001b[0;34m\u001b[0m\u001b[0m\n\u001b[1;32m   2361\u001b[0m \u001b[0;34m\u001b[0m\u001b[0m\n",
      "\u001b[0;32m</opt/anaconda3/envs/learn-env/lib/python3.6/site-packages/decorator.py:decorator-gen-60>\u001b[0m in \u001b[0;36mtimeit\u001b[0;34m(self, line, cell, local_ns)\u001b[0m\n",
      "\u001b[0;32m/opt/anaconda3/envs/learn-env/lib/python3.6/site-packages/IPython/core/magic.py\u001b[0m in \u001b[0;36m<lambda>\u001b[0;34m(f, *a, **k)\u001b[0m\n\u001b[1;32m    185\u001b[0m     \u001b[0;31m# but it's overkill for just that one bit of state.\u001b[0m\u001b[0;34m\u001b[0m\u001b[0;34m\u001b[0m\u001b[0;34m\u001b[0m\u001b[0m\n\u001b[1;32m    186\u001b[0m     \u001b[0;32mdef\u001b[0m \u001b[0mmagic_deco\u001b[0m\u001b[0;34m(\u001b[0m\u001b[0marg\u001b[0m\u001b[0;34m)\u001b[0m\u001b[0;34m:\u001b[0m\u001b[0;34m\u001b[0m\u001b[0;34m\u001b[0m\u001b[0m\n\u001b[0;32m--> 187\u001b[0;31m         \u001b[0mcall\u001b[0m \u001b[0;34m=\u001b[0m \u001b[0;32mlambda\u001b[0m \u001b[0mf\u001b[0m\u001b[0;34m,\u001b[0m \u001b[0;34m*\u001b[0m\u001b[0ma\u001b[0m\u001b[0;34m,\u001b[0m \u001b[0;34m**\u001b[0m\u001b[0mk\u001b[0m\u001b[0;34m:\u001b[0m \u001b[0mf\u001b[0m\u001b[0;34m(\u001b[0m\u001b[0;34m*\u001b[0m\u001b[0ma\u001b[0m\u001b[0;34m,\u001b[0m \u001b[0;34m**\u001b[0m\u001b[0mk\u001b[0m\u001b[0;34m)\u001b[0m\u001b[0;34m\u001b[0m\u001b[0;34m\u001b[0m\u001b[0m\n\u001b[0m\u001b[1;32m    188\u001b[0m \u001b[0;34m\u001b[0m\u001b[0m\n\u001b[1;32m    189\u001b[0m         \u001b[0;32mif\u001b[0m \u001b[0mcallable\u001b[0m\u001b[0;34m(\u001b[0m\u001b[0marg\u001b[0m\u001b[0;34m)\u001b[0m\u001b[0;34m:\u001b[0m\u001b[0;34m\u001b[0m\u001b[0;34m\u001b[0m\u001b[0m\n",
      "\u001b[0;32m/opt/anaconda3/envs/learn-env/lib/python3.6/site-packages/IPython/core/magics/execution.py\u001b[0m in \u001b[0;36mtimeit\u001b[0;34m(self, line, cell, local_ns)\u001b[0m\n\u001b[1;32m   1156\u001b[0m             \u001b[0;32mfor\u001b[0m \u001b[0mindex\u001b[0m \u001b[0;32min\u001b[0m \u001b[0mrange\u001b[0m\u001b[0;34m(\u001b[0m\u001b[0;36m0\u001b[0m\u001b[0;34m,\u001b[0m \u001b[0;36m10\u001b[0m\u001b[0;34m)\u001b[0m\u001b[0;34m:\u001b[0m\u001b[0;34m\u001b[0m\u001b[0;34m\u001b[0m\u001b[0m\n\u001b[1;32m   1157\u001b[0m                 \u001b[0mnumber\u001b[0m \u001b[0;34m=\u001b[0m \u001b[0;36m10\u001b[0m \u001b[0;34m**\u001b[0m \u001b[0mindex\u001b[0m\u001b[0;34m\u001b[0m\u001b[0;34m\u001b[0m\u001b[0m\n\u001b[0;32m-> 1158\u001b[0;31m                 \u001b[0mtime_number\u001b[0m \u001b[0;34m=\u001b[0m \u001b[0mtimer\u001b[0m\u001b[0;34m.\u001b[0m\u001b[0mtimeit\u001b[0m\u001b[0;34m(\u001b[0m\u001b[0mnumber\u001b[0m\u001b[0;34m)\u001b[0m\u001b[0;34m\u001b[0m\u001b[0;34m\u001b[0m\u001b[0m\n\u001b[0m\u001b[1;32m   1159\u001b[0m                 \u001b[0;32mif\u001b[0m \u001b[0mtime_number\u001b[0m \u001b[0;34m>=\u001b[0m \u001b[0;36m0.2\u001b[0m\u001b[0;34m:\u001b[0m\u001b[0;34m\u001b[0m\u001b[0;34m\u001b[0m\u001b[0m\n\u001b[1;32m   1160\u001b[0m                     \u001b[0;32mbreak\u001b[0m\u001b[0;34m\u001b[0m\u001b[0;34m\u001b[0m\u001b[0m\n",
      "\u001b[0;32m/opt/anaconda3/envs/learn-env/lib/python3.6/site-packages/IPython/core/magics/execution.py\u001b[0m in \u001b[0;36mtimeit\u001b[0;34m(self, number)\u001b[0m\n\u001b[1;32m    167\u001b[0m         \u001b[0mgc\u001b[0m\u001b[0;34m.\u001b[0m\u001b[0mdisable\u001b[0m\u001b[0;34m(\u001b[0m\u001b[0;34m)\u001b[0m\u001b[0;34m\u001b[0m\u001b[0;34m\u001b[0m\u001b[0m\n\u001b[1;32m    168\u001b[0m         \u001b[0;32mtry\u001b[0m\u001b[0;34m:\u001b[0m\u001b[0;34m\u001b[0m\u001b[0;34m\u001b[0m\u001b[0m\n\u001b[0;32m--> 169\u001b[0;31m             \u001b[0mtiming\u001b[0m \u001b[0;34m=\u001b[0m \u001b[0mself\u001b[0m\u001b[0;34m.\u001b[0m\u001b[0minner\u001b[0m\u001b[0;34m(\u001b[0m\u001b[0mit\u001b[0m\u001b[0;34m,\u001b[0m \u001b[0mself\u001b[0m\u001b[0;34m.\u001b[0m\u001b[0mtimer\u001b[0m\u001b[0;34m)\u001b[0m\u001b[0;34m\u001b[0m\u001b[0;34m\u001b[0m\u001b[0m\n\u001b[0m\u001b[1;32m    170\u001b[0m         \u001b[0;32mfinally\u001b[0m\u001b[0;34m:\u001b[0m\u001b[0;34m\u001b[0m\u001b[0;34m\u001b[0m\u001b[0m\n\u001b[1;32m    171\u001b[0m             \u001b[0;32mif\u001b[0m \u001b[0mgcold\u001b[0m\u001b[0;34m:\u001b[0m\u001b[0;34m\u001b[0m\u001b[0;34m\u001b[0m\u001b[0m\n",
      "\u001b[0;32m<magic-timeit>\u001b[0m in \u001b[0;36minner\u001b[0;34m(_it, _timer)\u001b[0m\n",
      "\u001b[0;32m/opt/anaconda3/envs/learn-env/lib/python3.6/site-packages/nltk/corpus/util.py\u001b[0m in \u001b[0;36m__getattr__\u001b[0;34m(self, attr)\u001b[0m\n\u001b[1;32m    121\u001b[0m             \u001b[0;32mraise\u001b[0m \u001b[0mAttributeError\u001b[0m\u001b[0;34m(\u001b[0m\u001b[0;34m\"LazyCorpusLoader object has no attribute '__bases__'\"\u001b[0m\u001b[0;34m)\u001b[0m\u001b[0;34m\u001b[0m\u001b[0;34m\u001b[0m\u001b[0m\n\u001b[1;32m    122\u001b[0m \u001b[0;34m\u001b[0m\u001b[0m\n\u001b[0;32m--> 123\u001b[0;31m         \u001b[0mself\u001b[0m\u001b[0;34m.\u001b[0m\u001b[0m__load\u001b[0m\u001b[0;34m(\u001b[0m\u001b[0;34m)\u001b[0m\u001b[0;34m\u001b[0m\u001b[0;34m\u001b[0m\u001b[0m\n\u001b[0m\u001b[1;32m    124\u001b[0m         \u001b[0;31m# This looks circular, but its not, since __load() changes our\u001b[0m\u001b[0;34m\u001b[0m\u001b[0;34m\u001b[0m\u001b[0;34m\u001b[0m\u001b[0m\n\u001b[1;32m    125\u001b[0m         \u001b[0;31m# __class__ to something new:\u001b[0m\u001b[0;34m\u001b[0m\u001b[0;34m\u001b[0m\u001b[0;34m\u001b[0m\u001b[0m\n",
      "\u001b[0;32m/opt/anaconda3/envs/learn-env/lib/python3.6/site-packages/nltk/corpus/util.py\u001b[0m in \u001b[0;36m__load\u001b[0;34m(self)\u001b[0m\n\u001b[1;32m     86\u001b[0m                     \u001b[0mroot\u001b[0m \u001b[0;34m=\u001b[0m \u001b[0mnltk\u001b[0m\u001b[0;34m.\u001b[0m\u001b[0mdata\u001b[0m\u001b[0;34m.\u001b[0m\u001b[0mfind\u001b[0m\u001b[0;34m(\u001b[0m\u001b[0;34m'{}/{}'\u001b[0m\u001b[0;34m.\u001b[0m\u001b[0mformat\u001b[0m\u001b[0;34m(\u001b[0m\u001b[0mself\u001b[0m\u001b[0;34m.\u001b[0m\u001b[0msubdir\u001b[0m\u001b[0;34m,\u001b[0m \u001b[0mzip_name\u001b[0m\u001b[0;34m)\u001b[0m\u001b[0;34m)\u001b[0m\u001b[0;34m\u001b[0m\u001b[0;34m\u001b[0m\u001b[0m\n\u001b[1;32m     87\u001b[0m                 \u001b[0;32mexcept\u001b[0m \u001b[0mLookupError\u001b[0m\u001b[0;34m:\u001b[0m\u001b[0;34m\u001b[0m\u001b[0;34m\u001b[0m\u001b[0m\n\u001b[0;32m---> 88\u001b[0;31m                     \u001b[0;32mraise\u001b[0m \u001b[0me\u001b[0m\u001b[0;34m\u001b[0m\u001b[0;34m\u001b[0m\u001b[0m\n\u001b[0m\u001b[1;32m     89\u001b[0m \u001b[0;34m\u001b[0m\u001b[0m\n\u001b[1;32m     90\u001b[0m         \u001b[0;31m# Load the corpus.\u001b[0m\u001b[0;34m\u001b[0m\u001b[0;34m\u001b[0m\u001b[0;34m\u001b[0m\u001b[0m\n",
      "\u001b[0;32m/opt/anaconda3/envs/learn-env/lib/python3.6/site-packages/nltk/corpus/util.py\u001b[0m in \u001b[0;36m__load\u001b[0;34m(self)\u001b[0m\n\u001b[1;32m     81\u001b[0m         \u001b[0;32melse\u001b[0m\u001b[0;34m:\u001b[0m\u001b[0;34m\u001b[0m\u001b[0;34m\u001b[0m\u001b[0m\n\u001b[1;32m     82\u001b[0m             \u001b[0;32mtry\u001b[0m\u001b[0;34m:\u001b[0m\u001b[0;34m\u001b[0m\u001b[0;34m\u001b[0m\u001b[0m\n\u001b[0;32m---> 83\u001b[0;31m                 \u001b[0mroot\u001b[0m \u001b[0;34m=\u001b[0m \u001b[0mnltk\u001b[0m\u001b[0;34m.\u001b[0m\u001b[0mdata\u001b[0m\u001b[0;34m.\u001b[0m\u001b[0mfind\u001b[0m\u001b[0;34m(\u001b[0m\u001b[0;34m'{}/{}'\u001b[0m\u001b[0;34m.\u001b[0m\u001b[0mformat\u001b[0m\u001b[0;34m(\u001b[0m\u001b[0mself\u001b[0m\u001b[0;34m.\u001b[0m\u001b[0msubdir\u001b[0m\u001b[0;34m,\u001b[0m \u001b[0mself\u001b[0m\u001b[0;34m.\u001b[0m\u001b[0m__name\u001b[0m\u001b[0;34m)\u001b[0m\u001b[0;34m)\u001b[0m\u001b[0;34m\u001b[0m\u001b[0;34m\u001b[0m\u001b[0m\n\u001b[0m\u001b[1;32m     84\u001b[0m             \u001b[0;32mexcept\u001b[0m \u001b[0mLookupError\u001b[0m \u001b[0;32mas\u001b[0m \u001b[0me\u001b[0m\u001b[0;34m:\u001b[0m\u001b[0;34m\u001b[0m\u001b[0;34m\u001b[0m\u001b[0m\n\u001b[1;32m     85\u001b[0m                 \u001b[0;32mtry\u001b[0m\u001b[0;34m:\u001b[0m\u001b[0;34m\u001b[0m\u001b[0;34m\u001b[0m\u001b[0m\n",
      "\u001b[0;32m/opt/anaconda3/envs/learn-env/lib/python3.6/site-packages/nltk/data.py\u001b[0m in \u001b[0;36mfind\u001b[0;34m(resource_name, paths)\u001b[0m\n\u001b[1;32m    699\u001b[0m     \u001b[0msep\u001b[0m \u001b[0;34m=\u001b[0m \u001b[0;34m'*'\u001b[0m \u001b[0;34m*\u001b[0m \u001b[0;36m70\u001b[0m\u001b[0;34m\u001b[0m\u001b[0;34m\u001b[0m\u001b[0m\n\u001b[1;32m    700\u001b[0m     \u001b[0mresource_not_found\u001b[0m \u001b[0;34m=\u001b[0m \u001b[0;34m'\\n%s\\n%s\\n%s\\n'\u001b[0m \u001b[0;34m%\u001b[0m \u001b[0;34m(\u001b[0m\u001b[0msep\u001b[0m\u001b[0;34m,\u001b[0m \u001b[0mmsg\u001b[0m\u001b[0;34m,\u001b[0m \u001b[0msep\u001b[0m\u001b[0;34m)\u001b[0m\u001b[0;34m\u001b[0m\u001b[0;34m\u001b[0m\u001b[0m\n\u001b[0;32m--> 701\u001b[0;31m     \u001b[0;32mraise\u001b[0m \u001b[0mLookupError\u001b[0m\u001b[0;34m(\u001b[0m\u001b[0mresource_not_found\u001b[0m\u001b[0;34m)\u001b[0m\u001b[0;34m\u001b[0m\u001b[0;34m\u001b[0m\u001b[0m\n\u001b[0m\u001b[1;32m    702\u001b[0m \u001b[0;34m\u001b[0m\u001b[0m\n\u001b[1;32m    703\u001b[0m \u001b[0;34m\u001b[0m\u001b[0m\n",
      "\u001b[0;31mLookupError\u001b[0m: \n**********************************************************************\n  Resource \u001b[93mgutenberg\u001b[0m not found.\n  Please use the NLTK Downloader to obtain the resource:\n\n  \u001b[31m>>> import nltk\n  >>> nltk.download('gutenberg')\n  \u001b[0m\n  For more information see: https://www.nltk.org/data.html\n\n  Attempted to load \u001b[93mcorpora/gutenberg\u001b[0m\n\n  Searched in:\n    - '/Users/LeanaCritchell/nltk_data'\n    - '/opt/anaconda3/envs/learn-env/nltk_data'\n    - '/opt/anaconda3/envs/learn-env/share/nltk_data'\n    - '/opt/anaconda3/envs/learn-env/lib/nltk_data'\n    - '/usr/share/nltk_data'\n    - '/usr/local/share/nltk_data'\n    - '/usr/lib/nltk_data'\n    - '/usr/local/lib/nltk_data'\n**********************************************************************\n"
     ]
    }
   ],
   "source": [
    "%%timeit\n",
    "import nltk \n",
    "emma = nltk.corpus.gutenberg.words('austen-emma.txt')\n",
    "\n",
    "newlist = []\n",
    "for word in emma:\n",
    "    newlist.append(word.upper())\n"
   ]
  },
  {
   "cell_type": "code",
   "execution_count": 60,
   "metadata": {
    "collapsed": true,
    "jupyter": {
     "outputs_hidden": true
    }
   },
   "outputs": [
    {
     "ename": "LookupError",
     "evalue": "\n**********************************************************************\n  Resource \u001b[93mgutenberg\u001b[0m not found.\n  Please use the NLTK Downloader to obtain the resource:\n\n  \u001b[31m>>> import nltk\n  >>> nltk.download('gutenberg')\n  \u001b[0m\n  For more information see: https://www.nltk.org/data.html\n\n  Attempted to load \u001b[93mcorpora/gutenberg\u001b[0m\n\n  Searched in:\n    - '/Users/LeanaCritchell/nltk_data'\n    - '/opt/anaconda3/envs/learn-env/nltk_data'\n    - '/opt/anaconda3/envs/learn-env/share/nltk_data'\n    - '/opt/anaconda3/envs/learn-env/lib/nltk_data'\n    - '/usr/share/nltk_data'\n    - '/usr/local/share/nltk_data'\n    - '/usr/lib/nltk_data'\n    - '/usr/local/lib/nltk_data'\n**********************************************************************\n",
     "output_type": "error",
     "traceback": [
      "\u001b[0;31m---------------------------------------------------------------------------\u001b[0m",
      "\u001b[0;31mLookupError\u001b[0m                               Traceback (most recent call last)",
      "\u001b[0;32m/opt/anaconda3/envs/learn-env/lib/python3.6/site-packages/nltk/corpus/util.py\u001b[0m in \u001b[0;36m__load\u001b[0;34m(self)\u001b[0m\n\u001b[1;32m     85\u001b[0m                 \u001b[0;32mtry\u001b[0m\u001b[0;34m:\u001b[0m\u001b[0;34m\u001b[0m\u001b[0;34m\u001b[0m\u001b[0m\n\u001b[0;32m---> 86\u001b[0;31m                     \u001b[0mroot\u001b[0m \u001b[0;34m=\u001b[0m \u001b[0mnltk\u001b[0m\u001b[0;34m.\u001b[0m\u001b[0mdata\u001b[0m\u001b[0;34m.\u001b[0m\u001b[0mfind\u001b[0m\u001b[0;34m(\u001b[0m\u001b[0;34m'{}/{}'\u001b[0m\u001b[0;34m.\u001b[0m\u001b[0mformat\u001b[0m\u001b[0;34m(\u001b[0m\u001b[0mself\u001b[0m\u001b[0;34m.\u001b[0m\u001b[0msubdir\u001b[0m\u001b[0;34m,\u001b[0m \u001b[0mzip_name\u001b[0m\u001b[0;34m)\u001b[0m\u001b[0;34m)\u001b[0m\u001b[0;34m\u001b[0m\u001b[0;34m\u001b[0m\u001b[0m\n\u001b[0m\u001b[1;32m     87\u001b[0m                 \u001b[0;32mexcept\u001b[0m \u001b[0mLookupError\u001b[0m\u001b[0;34m:\u001b[0m\u001b[0;34m\u001b[0m\u001b[0;34m\u001b[0m\u001b[0m\n",
      "\u001b[0;32m/opt/anaconda3/envs/learn-env/lib/python3.6/site-packages/nltk/data.py\u001b[0m in \u001b[0;36mfind\u001b[0;34m(resource_name, paths)\u001b[0m\n\u001b[1;32m    700\u001b[0m     \u001b[0mresource_not_found\u001b[0m \u001b[0;34m=\u001b[0m \u001b[0;34m'\\n%s\\n%s\\n%s\\n'\u001b[0m \u001b[0;34m%\u001b[0m \u001b[0;34m(\u001b[0m\u001b[0msep\u001b[0m\u001b[0;34m,\u001b[0m \u001b[0mmsg\u001b[0m\u001b[0;34m,\u001b[0m \u001b[0msep\u001b[0m\u001b[0;34m)\u001b[0m\u001b[0;34m\u001b[0m\u001b[0;34m\u001b[0m\u001b[0m\n\u001b[0;32m--> 701\u001b[0;31m     \u001b[0;32mraise\u001b[0m \u001b[0mLookupError\u001b[0m\u001b[0;34m(\u001b[0m\u001b[0mresource_not_found\u001b[0m\u001b[0;34m)\u001b[0m\u001b[0;34m\u001b[0m\u001b[0;34m\u001b[0m\u001b[0m\n\u001b[0m\u001b[1;32m    702\u001b[0m \u001b[0;34m\u001b[0m\u001b[0m\n",
      "\u001b[0;31mLookupError\u001b[0m: \n**********************************************************************\n  Resource \u001b[93mgutenberg\u001b[0m not found.\n  Please use the NLTK Downloader to obtain the resource:\n\n  \u001b[31m>>> import nltk\n  >>> nltk.download('gutenberg')\n  \u001b[0m\n  For more information see: https://www.nltk.org/data.html\n\n  Attempted to load \u001b[93mcorpora/gutenberg.zip/gutenberg/\u001b[0m\n\n  Searched in:\n    - '/Users/LeanaCritchell/nltk_data'\n    - '/opt/anaconda3/envs/learn-env/nltk_data'\n    - '/opt/anaconda3/envs/learn-env/share/nltk_data'\n    - '/opt/anaconda3/envs/learn-env/lib/nltk_data'\n    - '/usr/share/nltk_data'\n    - '/usr/local/share/nltk_data'\n    - '/usr/lib/nltk_data'\n    - '/usr/local/lib/nltk_data'\n**********************************************************************\n",
      "\nDuring handling of the above exception, another exception occurred:\n",
      "\u001b[0;31mLookupError\u001b[0m                               Traceback (most recent call last)",
      "\u001b[0;32m<ipython-input-60-d951c7204443>\u001b[0m in \u001b[0;36m<module>\u001b[0;34m\u001b[0m\n\u001b[1;32m      1\u001b[0m \u001b[0;32mimport\u001b[0m \u001b[0mnltk\u001b[0m\u001b[0;34m\u001b[0m\u001b[0;34m\u001b[0m\u001b[0m\n\u001b[0;32m----> 2\u001b[0;31m \u001b[0memma\u001b[0m \u001b[0;34m=\u001b[0m \u001b[0mnltk\u001b[0m\u001b[0;34m.\u001b[0m\u001b[0mcorpus\u001b[0m\u001b[0;34m.\u001b[0m\u001b[0mgutenberg\u001b[0m\u001b[0;34m.\u001b[0m\u001b[0mwords\u001b[0m\u001b[0;34m(\u001b[0m\u001b[0;34m'austen-emma.txt'\u001b[0m\u001b[0;34m)\u001b[0m\u001b[0;34m\u001b[0m\u001b[0;34m\u001b[0m\u001b[0m\n\u001b[0m\u001b[1;32m      3\u001b[0m \u001b[0mget_ipython\u001b[0m\u001b[0;34m(\u001b[0m\u001b[0;34m)\u001b[0m\u001b[0;34m.\u001b[0m\u001b[0mrun_line_magic\u001b[0m\u001b[0;34m(\u001b[0m\u001b[0;34m'timeit'\u001b[0m\u001b[0;34m,\u001b[0m \u001b[0;34m'newlist = [s.upper() for s in emma]'\u001b[0m\u001b[0;34m)\u001b[0m\u001b[0;34m\u001b[0m\u001b[0;34m\u001b[0m\u001b[0m\n",
      "\u001b[0;32m/opt/anaconda3/envs/learn-env/lib/python3.6/site-packages/nltk/corpus/util.py\u001b[0m in \u001b[0;36m__getattr__\u001b[0;34m(self, attr)\u001b[0m\n\u001b[1;32m    121\u001b[0m             \u001b[0;32mraise\u001b[0m \u001b[0mAttributeError\u001b[0m\u001b[0;34m(\u001b[0m\u001b[0;34m\"LazyCorpusLoader object has no attribute '__bases__'\"\u001b[0m\u001b[0;34m)\u001b[0m\u001b[0;34m\u001b[0m\u001b[0;34m\u001b[0m\u001b[0m\n\u001b[1;32m    122\u001b[0m \u001b[0;34m\u001b[0m\u001b[0m\n\u001b[0;32m--> 123\u001b[0;31m         \u001b[0mself\u001b[0m\u001b[0;34m.\u001b[0m\u001b[0m__load\u001b[0m\u001b[0;34m(\u001b[0m\u001b[0;34m)\u001b[0m\u001b[0;34m\u001b[0m\u001b[0;34m\u001b[0m\u001b[0m\n\u001b[0m\u001b[1;32m    124\u001b[0m         \u001b[0;31m# This looks circular, but its not, since __load() changes our\u001b[0m\u001b[0;34m\u001b[0m\u001b[0;34m\u001b[0m\u001b[0;34m\u001b[0m\u001b[0m\n\u001b[1;32m    125\u001b[0m         \u001b[0;31m# __class__ to something new:\u001b[0m\u001b[0;34m\u001b[0m\u001b[0;34m\u001b[0m\u001b[0;34m\u001b[0m\u001b[0m\n",
      "\u001b[0;32m/opt/anaconda3/envs/learn-env/lib/python3.6/site-packages/nltk/corpus/util.py\u001b[0m in \u001b[0;36m__load\u001b[0;34m(self)\u001b[0m\n\u001b[1;32m     86\u001b[0m                     \u001b[0mroot\u001b[0m \u001b[0;34m=\u001b[0m \u001b[0mnltk\u001b[0m\u001b[0;34m.\u001b[0m\u001b[0mdata\u001b[0m\u001b[0;34m.\u001b[0m\u001b[0mfind\u001b[0m\u001b[0;34m(\u001b[0m\u001b[0;34m'{}/{}'\u001b[0m\u001b[0;34m.\u001b[0m\u001b[0mformat\u001b[0m\u001b[0;34m(\u001b[0m\u001b[0mself\u001b[0m\u001b[0;34m.\u001b[0m\u001b[0msubdir\u001b[0m\u001b[0;34m,\u001b[0m \u001b[0mzip_name\u001b[0m\u001b[0;34m)\u001b[0m\u001b[0;34m)\u001b[0m\u001b[0;34m\u001b[0m\u001b[0;34m\u001b[0m\u001b[0m\n\u001b[1;32m     87\u001b[0m                 \u001b[0;32mexcept\u001b[0m \u001b[0mLookupError\u001b[0m\u001b[0;34m:\u001b[0m\u001b[0;34m\u001b[0m\u001b[0;34m\u001b[0m\u001b[0m\n\u001b[0;32m---> 88\u001b[0;31m                     \u001b[0;32mraise\u001b[0m \u001b[0me\u001b[0m\u001b[0;34m\u001b[0m\u001b[0;34m\u001b[0m\u001b[0m\n\u001b[0m\u001b[1;32m     89\u001b[0m \u001b[0;34m\u001b[0m\u001b[0m\n\u001b[1;32m     90\u001b[0m         \u001b[0;31m# Load the corpus.\u001b[0m\u001b[0;34m\u001b[0m\u001b[0;34m\u001b[0m\u001b[0;34m\u001b[0m\u001b[0m\n",
      "\u001b[0;32m/opt/anaconda3/envs/learn-env/lib/python3.6/site-packages/nltk/corpus/util.py\u001b[0m in \u001b[0;36m__load\u001b[0;34m(self)\u001b[0m\n\u001b[1;32m     81\u001b[0m         \u001b[0;32melse\u001b[0m\u001b[0;34m:\u001b[0m\u001b[0;34m\u001b[0m\u001b[0;34m\u001b[0m\u001b[0m\n\u001b[1;32m     82\u001b[0m             \u001b[0;32mtry\u001b[0m\u001b[0;34m:\u001b[0m\u001b[0;34m\u001b[0m\u001b[0;34m\u001b[0m\u001b[0m\n\u001b[0;32m---> 83\u001b[0;31m                 \u001b[0mroot\u001b[0m \u001b[0;34m=\u001b[0m \u001b[0mnltk\u001b[0m\u001b[0;34m.\u001b[0m\u001b[0mdata\u001b[0m\u001b[0;34m.\u001b[0m\u001b[0mfind\u001b[0m\u001b[0;34m(\u001b[0m\u001b[0;34m'{}/{}'\u001b[0m\u001b[0;34m.\u001b[0m\u001b[0mformat\u001b[0m\u001b[0;34m(\u001b[0m\u001b[0mself\u001b[0m\u001b[0;34m.\u001b[0m\u001b[0msubdir\u001b[0m\u001b[0;34m,\u001b[0m \u001b[0mself\u001b[0m\u001b[0;34m.\u001b[0m\u001b[0m__name\u001b[0m\u001b[0;34m)\u001b[0m\u001b[0;34m)\u001b[0m\u001b[0;34m\u001b[0m\u001b[0;34m\u001b[0m\u001b[0m\n\u001b[0m\u001b[1;32m     84\u001b[0m             \u001b[0;32mexcept\u001b[0m \u001b[0mLookupError\u001b[0m \u001b[0;32mas\u001b[0m \u001b[0me\u001b[0m\u001b[0;34m:\u001b[0m\u001b[0;34m\u001b[0m\u001b[0;34m\u001b[0m\u001b[0m\n\u001b[1;32m     85\u001b[0m                 \u001b[0;32mtry\u001b[0m\u001b[0;34m:\u001b[0m\u001b[0;34m\u001b[0m\u001b[0;34m\u001b[0m\u001b[0m\n",
      "\u001b[0;32m/opt/anaconda3/envs/learn-env/lib/python3.6/site-packages/nltk/data.py\u001b[0m in \u001b[0;36mfind\u001b[0;34m(resource_name, paths)\u001b[0m\n\u001b[1;32m    699\u001b[0m     \u001b[0msep\u001b[0m \u001b[0;34m=\u001b[0m \u001b[0;34m'*'\u001b[0m \u001b[0;34m*\u001b[0m \u001b[0;36m70\u001b[0m\u001b[0;34m\u001b[0m\u001b[0;34m\u001b[0m\u001b[0m\n\u001b[1;32m    700\u001b[0m     \u001b[0mresource_not_found\u001b[0m \u001b[0;34m=\u001b[0m \u001b[0;34m'\\n%s\\n%s\\n%s\\n'\u001b[0m \u001b[0;34m%\u001b[0m \u001b[0;34m(\u001b[0m\u001b[0msep\u001b[0m\u001b[0;34m,\u001b[0m \u001b[0mmsg\u001b[0m\u001b[0;34m,\u001b[0m \u001b[0msep\u001b[0m\u001b[0;34m)\u001b[0m\u001b[0;34m\u001b[0m\u001b[0;34m\u001b[0m\u001b[0m\n\u001b[0;32m--> 701\u001b[0;31m     \u001b[0;32mraise\u001b[0m \u001b[0mLookupError\u001b[0m\u001b[0;34m(\u001b[0m\u001b[0mresource_not_found\u001b[0m\u001b[0;34m)\u001b[0m\u001b[0;34m\u001b[0m\u001b[0;34m\u001b[0m\u001b[0m\n\u001b[0m\u001b[1;32m    702\u001b[0m \u001b[0;34m\u001b[0m\u001b[0m\n\u001b[1;32m    703\u001b[0m \u001b[0;34m\u001b[0m\u001b[0m\n",
      "\u001b[0;31mLookupError\u001b[0m: \n**********************************************************************\n  Resource \u001b[93mgutenberg\u001b[0m not found.\n  Please use the NLTK Downloader to obtain the resource:\n\n  \u001b[31m>>> import nltk\n  >>> nltk.download('gutenberg')\n  \u001b[0m\n  For more information see: https://www.nltk.org/data.html\n\n  Attempted to load \u001b[93mcorpora/gutenberg\u001b[0m\n\n  Searched in:\n    - '/Users/LeanaCritchell/nltk_data'\n    - '/opt/anaconda3/envs/learn-env/nltk_data'\n    - '/opt/anaconda3/envs/learn-env/share/nltk_data'\n    - '/opt/anaconda3/envs/learn-env/lib/nltk_data'\n    - '/usr/share/nltk_data'\n    - '/usr/local/share/nltk_data'\n    - '/usr/lib/nltk_data'\n    - '/usr/local/lib/nltk_data'\n**********************************************************************\n"
     ]
    }
   ],
   "source": [
    "import nltk \n",
    "emma = nltk.corpus.gutenberg.words('austen-emma.txt')\n",
    "%timeit newlist = [s.upper() for s in emma]"
   ]
  },
  {
   "cell_type": "code",
   "execution_count": 61,
   "metadata": {
    "collapsed": true,
    "jupyter": {
     "outputs_hidden": true
    }
   },
   "outputs": [
    {
     "ename": "NameError",
     "evalue": "name 'emma' is not defined",
     "output_type": "error",
     "traceback": [
      "\u001b[0;31m---------------------------------------------------------------------------\u001b[0m",
      "\u001b[0;31mNameError\u001b[0m                                 Traceback (most recent call last)",
      "\u001b[0;32m<ipython-input-61-13f0b9ed3859>\u001b[0m in \u001b[0;36m<module>\u001b[0;34m\u001b[0m\n\u001b[0;32m----> 1\u001b[0;31m \u001b[0mget_ipython\u001b[0m\u001b[0;34m(\u001b[0m\u001b[0;34m)\u001b[0m\u001b[0;34m.\u001b[0m\u001b[0mrun_line_magic\u001b[0m\u001b[0;34m(\u001b[0m\u001b[0;34m'timeit'\u001b[0m\u001b[0;34m,\u001b[0m \u001b[0;34m'newlist = map(str.upper, emma)'\u001b[0m\u001b[0;34m)\u001b[0m\u001b[0;34m\u001b[0m\u001b[0;34m\u001b[0m\u001b[0m\n\u001b[0m",
      "\u001b[0;32m/opt/anaconda3/envs/learn-env/lib/python3.6/site-packages/IPython/core/interactiveshell.py\u001b[0m in \u001b[0;36mrun_line_magic\u001b[0;34m(self, magic_name, line, _stack_depth)\u001b[0m\n\u001b[1;32m   2312\u001b[0m                 \u001b[0mkwargs\u001b[0m\u001b[0;34m[\u001b[0m\u001b[0;34m'local_ns'\u001b[0m\u001b[0;34m]\u001b[0m \u001b[0;34m=\u001b[0m \u001b[0msys\u001b[0m\u001b[0;34m.\u001b[0m\u001b[0m_getframe\u001b[0m\u001b[0;34m(\u001b[0m\u001b[0mstack_depth\u001b[0m\u001b[0;34m)\u001b[0m\u001b[0;34m.\u001b[0m\u001b[0mf_locals\u001b[0m\u001b[0;34m\u001b[0m\u001b[0;34m\u001b[0m\u001b[0m\n\u001b[1;32m   2313\u001b[0m             \u001b[0;32mwith\u001b[0m \u001b[0mself\u001b[0m\u001b[0;34m.\u001b[0m\u001b[0mbuiltin_trap\u001b[0m\u001b[0;34m:\u001b[0m\u001b[0;34m\u001b[0m\u001b[0;34m\u001b[0m\u001b[0m\n\u001b[0;32m-> 2314\u001b[0;31m                 \u001b[0mresult\u001b[0m \u001b[0;34m=\u001b[0m \u001b[0mfn\u001b[0m\u001b[0;34m(\u001b[0m\u001b[0;34m*\u001b[0m\u001b[0margs\u001b[0m\u001b[0;34m,\u001b[0m \u001b[0;34m**\u001b[0m\u001b[0mkwargs\u001b[0m\u001b[0;34m)\u001b[0m\u001b[0;34m\u001b[0m\u001b[0;34m\u001b[0m\u001b[0m\n\u001b[0m\u001b[1;32m   2315\u001b[0m             \u001b[0;32mreturn\u001b[0m \u001b[0mresult\u001b[0m\u001b[0;34m\u001b[0m\u001b[0;34m\u001b[0m\u001b[0m\n\u001b[1;32m   2316\u001b[0m \u001b[0;34m\u001b[0m\u001b[0m\n",
      "\u001b[0;32m</opt/anaconda3/envs/learn-env/lib/python3.6/site-packages/decorator.py:decorator-gen-60>\u001b[0m in \u001b[0;36mtimeit\u001b[0;34m(self, line, cell, local_ns)\u001b[0m\n",
      "\u001b[0;32m/opt/anaconda3/envs/learn-env/lib/python3.6/site-packages/IPython/core/magic.py\u001b[0m in \u001b[0;36m<lambda>\u001b[0;34m(f, *a, **k)\u001b[0m\n\u001b[1;32m    185\u001b[0m     \u001b[0;31m# but it's overkill for just that one bit of state.\u001b[0m\u001b[0;34m\u001b[0m\u001b[0;34m\u001b[0m\u001b[0;34m\u001b[0m\u001b[0m\n\u001b[1;32m    186\u001b[0m     \u001b[0;32mdef\u001b[0m \u001b[0mmagic_deco\u001b[0m\u001b[0;34m(\u001b[0m\u001b[0marg\u001b[0m\u001b[0;34m)\u001b[0m\u001b[0;34m:\u001b[0m\u001b[0;34m\u001b[0m\u001b[0;34m\u001b[0m\u001b[0m\n\u001b[0;32m--> 187\u001b[0;31m         \u001b[0mcall\u001b[0m \u001b[0;34m=\u001b[0m \u001b[0;32mlambda\u001b[0m \u001b[0mf\u001b[0m\u001b[0;34m,\u001b[0m \u001b[0;34m*\u001b[0m\u001b[0ma\u001b[0m\u001b[0;34m,\u001b[0m \u001b[0;34m**\u001b[0m\u001b[0mk\u001b[0m\u001b[0;34m:\u001b[0m \u001b[0mf\u001b[0m\u001b[0;34m(\u001b[0m\u001b[0;34m*\u001b[0m\u001b[0ma\u001b[0m\u001b[0;34m,\u001b[0m \u001b[0;34m**\u001b[0m\u001b[0mk\u001b[0m\u001b[0;34m)\u001b[0m\u001b[0;34m\u001b[0m\u001b[0;34m\u001b[0m\u001b[0m\n\u001b[0m\u001b[1;32m    188\u001b[0m \u001b[0;34m\u001b[0m\u001b[0m\n\u001b[1;32m    189\u001b[0m         \u001b[0;32mif\u001b[0m \u001b[0mcallable\u001b[0m\u001b[0;34m(\u001b[0m\u001b[0marg\u001b[0m\u001b[0;34m)\u001b[0m\u001b[0;34m:\u001b[0m\u001b[0;34m\u001b[0m\u001b[0;34m\u001b[0m\u001b[0m\n",
      "\u001b[0;32m/opt/anaconda3/envs/learn-env/lib/python3.6/site-packages/IPython/core/magics/execution.py\u001b[0m in \u001b[0;36mtimeit\u001b[0;34m(self, line, cell, local_ns)\u001b[0m\n\u001b[1;32m   1156\u001b[0m             \u001b[0;32mfor\u001b[0m \u001b[0mindex\u001b[0m \u001b[0;32min\u001b[0m \u001b[0mrange\u001b[0m\u001b[0;34m(\u001b[0m\u001b[0;36m0\u001b[0m\u001b[0;34m,\u001b[0m \u001b[0;36m10\u001b[0m\u001b[0;34m)\u001b[0m\u001b[0;34m:\u001b[0m\u001b[0;34m\u001b[0m\u001b[0;34m\u001b[0m\u001b[0m\n\u001b[1;32m   1157\u001b[0m                 \u001b[0mnumber\u001b[0m \u001b[0;34m=\u001b[0m \u001b[0;36m10\u001b[0m \u001b[0;34m**\u001b[0m \u001b[0mindex\u001b[0m\u001b[0;34m\u001b[0m\u001b[0;34m\u001b[0m\u001b[0m\n\u001b[0;32m-> 1158\u001b[0;31m                 \u001b[0mtime_number\u001b[0m \u001b[0;34m=\u001b[0m \u001b[0mtimer\u001b[0m\u001b[0;34m.\u001b[0m\u001b[0mtimeit\u001b[0m\u001b[0;34m(\u001b[0m\u001b[0mnumber\u001b[0m\u001b[0;34m)\u001b[0m\u001b[0;34m\u001b[0m\u001b[0;34m\u001b[0m\u001b[0m\n\u001b[0m\u001b[1;32m   1159\u001b[0m                 \u001b[0;32mif\u001b[0m \u001b[0mtime_number\u001b[0m \u001b[0;34m>=\u001b[0m \u001b[0;36m0.2\u001b[0m\u001b[0;34m:\u001b[0m\u001b[0;34m\u001b[0m\u001b[0;34m\u001b[0m\u001b[0m\n\u001b[1;32m   1160\u001b[0m                     \u001b[0;32mbreak\u001b[0m\u001b[0;34m\u001b[0m\u001b[0;34m\u001b[0m\u001b[0m\n",
      "\u001b[0;32m/opt/anaconda3/envs/learn-env/lib/python3.6/site-packages/IPython/core/magics/execution.py\u001b[0m in \u001b[0;36mtimeit\u001b[0;34m(self, number)\u001b[0m\n\u001b[1;32m    167\u001b[0m         \u001b[0mgc\u001b[0m\u001b[0;34m.\u001b[0m\u001b[0mdisable\u001b[0m\u001b[0;34m(\u001b[0m\u001b[0;34m)\u001b[0m\u001b[0;34m\u001b[0m\u001b[0;34m\u001b[0m\u001b[0m\n\u001b[1;32m    168\u001b[0m         \u001b[0;32mtry\u001b[0m\u001b[0;34m:\u001b[0m\u001b[0;34m\u001b[0m\u001b[0;34m\u001b[0m\u001b[0m\n\u001b[0;32m--> 169\u001b[0;31m             \u001b[0mtiming\u001b[0m \u001b[0;34m=\u001b[0m \u001b[0mself\u001b[0m\u001b[0;34m.\u001b[0m\u001b[0minner\u001b[0m\u001b[0;34m(\u001b[0m\u001b[0mit\u001b[0m\u001b[0;34m,\u001b[0m \u001b[0mself\u001b[0m\u001b[0;34m.\u001b[0m\u001b[0mtimer\u001b[0m\u001b[0;34m)\u001b[0m\u001b[0;34m\u001b[0m\u001b[0;34m\u001b[0m\u001b[0m\n\u001b[0m\u001b[1;32m    170\u001b[0m         \u001b[0;32mfinally\u001b[0m\u001b[0;34m:\u001b[0m\u001b[0;34m\u001b[0m\u001b[0;34m\u001b[0m\u001b[0m\n\u001b[1;32m    171\u001b[0m             \u001b[0;32mif\u001b[0m \u001b[0mgcold\u001b[0m\u001b[0;34m:\u001b[0m\u001b[0;34m\u001b[0m\u001b[0;34m\u001b[0m\u001b[0m\n",
      "\u001b[0;32m<magic-timeit>\u001b[0m in \u001b[0;36minner\u001b[0;34m(_it, _timer)\u001b[0m\n",
      "\u001b[0;31mNameError\u001b[0m: name 'emma' is not defined"
     ]
    }
   ],
   "source": [
    "%timeit newlist = map(str.upper, emma)"
   ]
  },
  {
   "cell_type": "code",
   "execution_count": 67,
   "metadata": {},
   "outputs": [
    {
     "name": "stdout",
     "output_type": "stream",
     "text": [
      "2.46 ms ± 88.4 µs per loop (mean ± std. dev. of 7 runs, 100 loops each)\n"
     ]
    }
   ],
   "source": [
    "# Your code here\n",
    "from sklearn.linear_model import LogisticRegression\n",
    "lr = LogisticRegression()\n",
    "%timeit lr.fit(X, y)"
   ]
  },
  {
   "cell_type": "code",
   "execution_count": 68,
   "metadata": {},
   "outputs": [
    {
     "name": "stdout",
     "output_type": "stream",
     "text": [
      "1.25 ms ± 26 µs per loop (mean ± std. dev. of 7 runs, 1000 loops each)\n"
     ]
    }
   ],
   "source": [
    "knn = KNeighborsClassifier()\n",
    "%timeit knn.fit(X, y)"
   ]
  },
  {
   "cell_type": "code",
   "execution_count": 69,
   "metadata": {},
   "outputs": [
    {
     "name": "stdout",
     "output_type": "stream",
     "text": [
      "26.9 ms ± 971 µs per loop (mean ± std. dev. of 7 runs, 10 loops each)\n"
     ]
    }
   ],
   "source": [
    "%timeit knn.predict(X)"
   ]
  },
  {
   "cell_type": "code",
   "execution_count": 62,
   "metadata": {},
   "outputs": [
    {
     "name": "stdout",
     "output_type": "stream",
     "text": [
      "2.48 ms ± 61.7 µs per loop (mean ± std. dev. of 7 runs, 100 loops each)\n"
     ]
    }
   ],
   "source": [
    "#__SOLUTION__\n",
    "from sklearn.linear_model import LogisticRegression\n",
    "lr = LogisticRegression(max_iter=1000)\n",
    "%timeit lr.fit(X,y)\n"
   ]
  },
  {
   "cell_type": "code",
   "execution_count": null,
   "metadata": {},
   "outputs": [],
   "source": [
    "#__SOLUTION__\n",
    "\n",
    "knn = KNeighborsClassifier()\n",
    "%timeit knn.fit(X,y)"
   ]
  },
  {
   "cell_type": "code",
   "execution_count": null,
   "metadata": {},
   "outputs": [],
   "source": [
    "#__SOLUTION__\n",
    "\n",
    "%timeit knn.predict(X)"
   ]
  },
  {
   "cell_type": "markdown",
   "metadata": {},
   "source": [
    "# 6. Tuning K and the BV Tradeoff"
   ]
  },
  {
   "cell_type": "code",
   "execution_count": 70,
   "metadata": {},
   "outputs": [],
   "source": [
    "from sklearn.preprocessing import StandardScaler\n",
    "from sklearn.preprocessing import MinMaxScaler\n",
    "from sklearn.metrics import accuracy_score, recall_score, precision_score\n",
    " "
   ]
  },
  {
   "cell_type": "code",
   "execution_count": 71,
   "metadata": {},
   "outputs": [],
   "source": [
    "from sklearn.model_selection import train_test_split, KFold\n",
    "\n",
    "X_train, X_test, y_train, y_test = train_test_split(X, y, random_state=42, test_size=.25)\n",
    "# Set test set aside until we are confident in our model"
   ]
  },
  {
   "cell_type": "code",
   "execution_count": 72,
   "metadata": {},
   "outputs": [],
   "source": [
    "kf = KFold(n_splits=5)\n",
    "\n",
    "k_scores_train = {}\n",
    "k_scores_val = {}\n",
    "\n",
    "\n",
    "for k in range(1,20):\n",
    "    knn = KNeighborsClassifier(n_neighbors=k)\n",
    "    accuracy_score_t = []\n",
    "    accuracy_score_v = []\n",
    "    for train_ind, val_ind in kf.split(X_train, y_train):\n",
    "        \n",
    "        X_t, y_t = X_train.iloc[train_ind], y_train.iloc[train_ind] \n",
    "        X_v, y_v = X_train.iloc[val_ind], y_train.iloc[val_ind]\n",
    "        mm = MinMaxScaler()\n",
    "        \n",
    "        X_t_ind = X_t.index\n",
    "        X_v_ind = X_v.index\n",
    "        \n",
    "        X_t = pd.DataFrame(mm.fit_transform(X_t))\n",
    "        X_t.index = X_t_ind\n",
    "        X_v = pd.DataFrame(mm.transform(X_v))\n",
    "        X_v.index = X_v_ind\n",
    "        \n",
    "        knn.fit(X_t, y_t)\n",
    "        \n",
    "        y_pred_t = knn.predict(X_t)\n",
    "        y_pred_v = knn.predict(X_v)\n",
    "        \n",
    "        accuracy_score_t.append(accuracy_score(y_t, y_pred_t))\n",
    "        accuracy_score_v.append(accuracy_score(y_v, y_pred_v))\n",
    "        \n",
    "        \n",
    "    k_scores_train[k] = np.mean(accuracy_score_t)\n",
    "    k_scores_val[k] = np.mean(accuracy_score_v)"
   ]
  },
  {
   "cell_type": "code",
   "execution_count": 73,
   "metadata": {},
   "outputs": [
    {
     "data": {
      "text/plain": [
       "{1: 0.9527049330643681,\n",
       " 2: 0.7991818194642328,\n",
       " 3: 0.786796258940033,\n",
       " 4: 0.7440004796230727,\n",
       " 5: 0.7391153775621041,\n",
       " 6: 0.7181008336977528,\n",
       " 7: 0.7135951981266487,\n",
       " 8: 0.7060876863829367,\n",
       " 9: 0.7038299313010482,\n",
       " 10: 0.7019579906614567,\n",
       " 11: 0.7023381624793691,\n",
       " 12: 0.7023395731354654,\n",
       " 13: 0.6982049401176488,\n",
       " 14: 0.6982063507737448,\n",
       " 15: 0.7019636332858412,\n",
       " 16: 0.6940759497242168,\n",
       " 17: 0.6970771205687767,\n",
       " 18: 0.6944497735896966,\n",
       " 19: 0.6967018860472005}"
      ]
     },
     "execution_count": 73,
     "metadata": {},
     "output_type": "execute_result"
    }
   ],
   "source": [
    "k_scores_train"
   ]
  },
  {
   "cell_type": "code",
   "execution_count": 74,
   "metadata": {},
   "outputs": [
    {
     "data": {
      "text/plain": [
       "{1: 0.6262035686230502,\n",
       " 2: 0.6352485691841544,\n",
       " 3: 0.6066883626977893,\n",
       " 4: 0.6502749410840535,\n",
       " 5: 0.6472225339468073,\n",
       " 6: 0.6532936819661093,\n",
       " 7: 0.6412411626080126,\n",
       " 8: 0.6577712939064078,\n",
       " 9: 0.6712939064078105,\n",
       " 10: 0.6712939064078105,\n",
       " 11: 0.6577937380765346,\n",
       " 12: 0.6727976658063068,\n",
       " 13: 0.660823701043654,\n",
       " 14: 0.6668050723824487,\n",
       " 15: 0.6547862192795422,\n",
       " 16: 0.6607900347884638,\n",
       " 17: 0.6517450342273594,\n",
       " 18: 0.6547749971944787,\n",
       " 19: 0.656278756592975}"
      ]
     },
     "execution_count": 74,
     "metadata": {},
     "output_type": "execute_result"
    }
   ],
   "source": [
    "k_scores_val"
   ]
  },
  {
   "cell_type": "code",
   "execution_count": 75,
   "metadata": {},
   "outputs": [
    {
     "data": {
      "text/plain": [
       "<matplotlib.legend.Legend at 0x1a27c987b8>"
      ]
     },
     "execution_count": 75,
     "metadata": {},
     "output_type": "execute_result"
    },
    {
     "data": {
      "image/png": "[encoded data removed]",
      "text/plain": [
       "<Figure size 1080x1080 with 1 Axes>"
      ]
     },
     "metadata": {
      "needs_background": "light"
     },
     "output_type": "display_data"
    }
   ],
   "source": [
    "fig, ax = plt.subplots(figsize=(15,15))\n",
    "\n",
    "ax.plot(list(k_scores_train.keys()), list(k_scores_train.values()),color='red', linestyle='dashed', marker='o',  \n",
    "         markerfacecolor='blue', markersize=10, label='Train')\n",
    "ax.plot(list(k_scores_val.keys()), list(k_scores_val.values()), color='green', linestyle='dashed', marker='o',  \n",
    "         markerfacecolor='blue', markersize=10, label='Val')\n",
    "ax.set_xlabel('k')\n",
    "ax.set_ylabel('Accuracy')\n",
    "plt.legend()"
   ]
  },
  {
   "cell_type": "markdown",
   "metadata": {},
   "source": [
    "### What value of K performs best on our Test data?"
   ]
  },
  {
   "cell_type": "markdown",
   "metadata": {},
   "source": [
    "### How do you think K size relates to our concepts of bias and variance?"
   ]
  },
  {
   "cell_type": "markdown",
   "metadata": {},
   "source": [
    "![alt text](img/K-NN_Neighborhood_Size_print.png)"
   ]
  },
  {
   "cell_type": "code",
   "execution_count": 76,
   "metadata": {},
   "outputs": [
    {
     "name": "stdout",
     "output_type": "stream",
     "text": [
      "training accuracy: 0.7132132132132132\n",
      "Test accuracy: 0.6995515695067265\n",
      "Confusion Matrix, without normalization\n",
      "[[118  23]\n",
      " [ 44  38]]\n"
     ]
    },
    {
     "data": {
      "image/png": "[encoded data removed]",
      "text/plain": [
       "<Figure size 432x288 with 2 Axes>"
      ]
     },
     "metadata": {
      "needs_background": "light"
     },
     "output_type": "display_data"
    }
   ],
   "source": [
    "mm = MinMaxScaler()\n",
    "\n",
    "X_train_ind = X_train.index\n",
    "X_train = pd.DataFrame(mm.fit_transform(X_train))\n",
    "X_train.index = X_train_ind\n",
    "\n",
    "X_test_ind = X_test.index\n",
    "X_test =  pd.DataFrame(mm.transform(X_test))\n",
    "X_test.index = X_test_ind\n",
    "\n",
    "\n",
    "knn = KNeighborsClassifier(n_neighbors=9)\n",
    "knn.fit(X_train, y_train)\n",
    "\n",
    "\n",
    "\n",
    "print(f\"training accuracy: {knn.score(X_train, y_train)}\")\n",
    "print(f\"Test accuracy: {knn.score(X_test, y_test)}\")\n",
    "\n",
    "y_hat = knn.predict(X_test)\n",
    "\n",
    "plot_confusion_matrix(confusion_matrix(y_test, y_hat), classes=['Perished', 'Survived'])"
   ]
  },
  {
   "cell_type": "code",
   "execution_count": 77,
   "metadata": {},
   "outputs": [
    {
     "data": {
      "text/plain": [
       "0.4634146341463415"
      ]
     },
     "execution_count": 77,
     "metadata": {},
     "output_type": "execute_result"
    }
   ],
   "source": [
    "recall_score(y_test, y_hat)"
   ]
  },
  {
   "cell_type": "code",
   "execution_count": 78,
   "metadata": {},
   "outputs": [
    {
     "data": {
      "text/plain": [
       "0.6229508196721312"
      ]
     },
     "execution_count": 78,
     "metadata": {},
     "output_type": "execute_result"
    }
   ],
   "source": [
    "precision_score(y_test, y_hat)"
   ]
  },
  {
   "cell_type": "code",
   "execution_count": null,
   "metadata": {},
   "outputs": [],
   "source": []
  }
 ],
 "metadata": {
  "kernelspec": {
   "display_name": "Python 3",
   "language": "python",
   "name": "python3"
  },
  "language_info": {
   "codemirror_mode": {
    "name": "ipython",
    "version": 3
   },
   "file_extension": ".py",
   "mimetype": "text/x-python",
   "name": "python",
   "nbconvert_exporter": "python",
   "pygments_lexer": "ipython3",
   "version": "3.6.9"
  }
 },
 "nbformat": 4,
 "nbformat_minor": 4
}
